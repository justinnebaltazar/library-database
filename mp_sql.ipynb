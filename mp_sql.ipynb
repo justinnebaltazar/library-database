{
 "cells": [
  {
   "cell_type": "code",
   "execution_count": 2,
   "id": "36ed5e4e-b9c3-401f-8655-03089ddcef3f",
   "metadata": {},
   "outputs": [
    {
     "name": "stdout",
     "output_type": "stream",
     "text": [
      "The sql extension is already loaded. To reload it, use:\n",
      "  %reload_ext sql\n"
     ]
    }
   ],
   "source": [
    "%load_ext sql"
   ]
  },
  {
   "cell_type": "code",
   "execution_count": 4,
   "id": "e2ed8168-de48-4ca0-94c9-9aab782aa0c3",
   "metadata": {},
   "outputs": [
    {
     "data": {
      "text/html": [
       "<span style=\"None\">Connecting to &#x27;sqlite:///library_final.db&#x27;</span>"
      ],
      "text/plain": [
       "Connecting to 'sqlite:///library_final.db'"
      ]
     },
     "metadata": {},
     "output_type": "display_data"
    }
   ],
   "source": [
    "%sql sqlite:///library_final.db"
   ]
  },
  {
   "cell_type": "code",
   "execution_count": 6,
   "id": "0a714958-2c66-4185-8acd-08602f74f78a",
   "metadata": {},
   "outputs": [
    {
     "data": {
      "text/html": [
       "<span style=\"None\">Running query in &#x27;sqlite:///library_final.db&#x27;</span>"
      ],
      "text/plain": [
       "Running query in 'sqlite:///library_final.db'"
      ]
     },
     "metadata": {},
     "output_type": "display_data"
    },
    {
     "data": {
      "text/html": [
       "<table>\n",
       "    <thead>\n",
       "        <tr>\n",
       "        </tr>\n",
       "    </thead>\n",
       "    <tbody>\n",
       "    </tbody>\n",
       "</table>"
      ],
      "text/plain": [
       "++\n",
       "||\n",
       "++\n",
       "++"
      ]
     },
     "execution_count": 6,
     "metadata": {},
     "output_type": "execute_result"
    }
   ],
   "source": [
    "%%sql\n",
    "PRAGMA foreign_keys = ON;"
   ]
  },
  {
   "cell_type": "code",
   "execution_count": 8,
   "id": "d0640d07-091b-41e5-b89b-139c26186e92",
   "metadata": {},
   "outputs": [
    {
     "data": {
      "text/html": [
       "<span style=\"None\">Running query in &#x27;sqlite:///library_final.db&#x27;</span>"
      ],
      "text/plain": [
       "Running query in 'sqlite:///library_final.db'"
      ]
     },
     "metadata": {},
     "output_type": "display_data"
    },
    {
     "data": {
      "text/html": [
       "<span style=\"None\">displaylimit: Value None will be treated as 0 (no limit)</span>"
      ],
      "text/plain": [
       "displaylimit: Value None will be treated as 0 (no limit)"
      ]
     },
     "metadata": {},
     "output_type": "display_data"
    }
   ],
   "source": [
    "%sql\n",
    "%config SqlMagic.displaylimit = None"
   ]
  },
  {
   "cell_type": "code",
   "execution_count": 34,
   "id": "11584f1b-34c0-460a-b689-d7da0df44cb5",
   "metadata": {},
   "outputs": [
    {
     "data": {
      "text/html": [
       "<span style=\"None\">Running query in &#x27;sqlite:///library_final.db&#x27;</span>"
      ],
      "text/plain": [
       "Running query in 'sqlite:///library_final.db'"
      ]
     },
     "metadata": {},
     "output_type": "display_data"
    },
    {
     "data": {
      "text/html": [
       "<table>\n",
       "    <thead>\n",
       "        <tr>\n",
       "        </tr>\n",
       "    </thead>\n",
       "    <tbody>\n",
       "    </tbody>\n",
       "</table>"
      ],
      "text/plain": [
       "++\n",
       "||\n",
       "++\n",
       "++"
      ]
     },
     "execution_count": 34,
     "metadata": {},
     "output_type": "execute_result"
    }
   ],
   "source": [
    "%%sql\n",
    "CREATE TABLE Patron (\n",
    "    id INTEGER NOT NULL, \n",
    "    first_name CHAR(50) NOT NULL, \n",
    "    last_name CHAR(50) NOT NULL, \n",
    "    email CHAR(40) NOT NULL,\n",
    "    PRIMARY KEY(id)\n",
    ");"
   ]
  },
  {
   "cell_type": "code",
   "execution_count": 14,
   "id": "dfc91076-c647-4b28-82b1-71beebb4192a",
   "metadata": {},
   "outputs": [
    {
     "data": {
      "text/html": [
       "<span style=\"None\">Running query in &#x27;sqlite:///library_final.db&#x27;</span>"
      ],
      "text/plain": [
       "Running query in 'sqlite:///library_final.db'"
      ]
     },
     "metadata": {},
     "output_type": "display_data"
    },
    {
     "data": {
      "text/html": [
       "<table>\n",
       "    <thead>\n",
       "        <tr>\n",
       "        </tr>\n",
       "    </thead>\n",
       "    <tbody>\n",
       "    </tbody>\n",
       "</table>"
      ],
      "text/plain": [
       "++\n",
       "||\n",
       "++\n",
       "++"
      ]
     },
     "execution_count": 14,
     "metadata": {},
     "output_type": "execute_result"
    }
   ],
   "source": [
    "%%sql\n",
    "CREATE TABLE Items (\n",
    "    item_id INTEGER NOT NULL, \n",
    "    title CHAR(100) NOT NULL , \n",
    "    type CHAR(50) NOT NULL,\n",
    "    creator CHAR(50) NOT NULL,\n",
    "    replacement_cost REAL NOT NULL, \n",
    "    status CHAR(15) NOT NULL, \n",
    "    PRIMARY KEY(item_id)\n",
    ");"
   ]
  },
  {
   "cell_type": "code",
   "execution_count": 16,
   "id": "9c380706-603f-4aec-9a2f-853383ee0456",
   "metadata": {},
   "outputs": [
    {
     "data": {
      "text/html": [
       "<span style=\"None\">Running query in &#x27;sqlite:///library_final.db&#x27;</span>"
      ],
      "text/plain": [
       "Running query in 'sqlite:///library_final.db'"
      ]
     },
     "metadata": {},
     "output_type": "display_data"
    },
    {
     "data": {
      "text/html": [
       "<table>\n",
       "    <thead>\n",
       "        <tr>\n",
       "        </tr>\n",
       "    </thead>\n",
       "    <tbody>\n",
       "    </tbody>\n",
       "</table>"
      ],
      "text/plain": [
       "++\n",
       "||\n",
       "++\n",
       "++"
      ]
     },
     "execution_count": 16,
     "metadata": {},
     "output_type": "execute_result"
    }
   ],
   "source": [
    "%%sql\n",
    "CREATE TABLE Staff (\n",
    "    id INTEGER NOT NULL,\n",
    "    position CHAR(30) NOT NULL, \n",
    "    salary REAL NOT NULL,\n",
    "    PRIMARY KEY (id),\n",
    "    FOREIGN KEY (id) REFERENCES Patron(id)\n",
    ");"
   ]
  },
  {
   "cell_type": "code",
   "execution_count": 18,
   "id": "7441be5c-b6ab-49f2-8771-0e08da752b85",
   "metadata": {},
   "outputs": [
    {
     "data": {
      "text/html": [
       "<span style=\"None\">Running query in &#x27;sqlite:///library_final.db&#x27;</span>"
      ],
      "text/plain": [
       "Running query in 'sqlite:///library_final.db'"
      ]
     },
     "metadata": {},
     "output_type": "display_data"
    },
    {
     "data": {
      "text/html": [
       "<table>\n",
       "    <thead>\n",
       "        <tr>\n",
       "        </tr>\n",
       "    </thead>\n",
       "    <tbody>\n",
       "    </tbody>\n",
       "</table>"
      ],
      "text/plain": [
       "++\n",
       "||\n",
       "++\n",
       "++"
      ]
     },
     "execution_count": 18,
     "metadata": {},
     "output_type": "execute_result"
    }
   ],
   "source": [
    "%%sql\n",
    "CREATE TABLE BorrowingHistory (\n",
    "    id INTEGER NOT NULL, \n",
    "    item_id INTEGER NOT NULL, \n",
    "    checkoutDate CHAR(10) NOT NULL, \n",
    "    returnDate CHAR(10), \n",
    "    PRIMARY KEY(id, item_id), \n",
    "    FOREIGN KEY (id) REFERENCES Patron(id), \n",
    "    FOREIGN KEY (item_id) REFERENCES Items(item_id)\n",
    ");"
   ]
  },
  {
   "cell_type": "code",
   "execution_count": 20,
   "id": "ec4ce413-12e2-46c8-80f5-1742ec18efe7",
   "metadata": {},
   "outputs": [
    {
     "data": {
      "text/html": [
       "<span style=\"None\">Running query in &#x27;sqlite:///library_final.db&#x27;</span>"
      ],
      "text/plain": [
       "Running query in 'sqlite:///library_final.db'"
      ]
     },
     "metadata": {},
     "output_type": "display_data"
    },
    {
     "data": {
      "text/html": [
       "<table>\n",
       "    <thead>\n",
       "        <tr>\n",
       "        </tr>\n",
       "    </thead>\n",
       "    <tbody>\n",
       "    </tbody>\n",
       "</table>"
      ],
      "text/plain": [
       "++\n",
       "||\n",
       "++\n",
       "++"
      ]
     },
     "execution_count": 20,
     "metadata": {},
     "output_type": "execute_result"
    }
   ],
   "source": [
    "%%sql\n",
    "CREATE TABLE AcquisitionRequest (\n",
    "    request_id INTEGER NOT NULL,\n",
    "    requested_by INTEGER NOT NULL,\n",
    "    request_status TEXT NOT NULL,\n",
    "    item_type CHAR(50) NOT NULL,\n",
    "    creator CHAR(50) NOT NULL,\n",
    "    title CHAR(100) NOT NULL,\n",
    "    PRIMARY KEY (request_id),\n",
    "    FOREIGN KEY (requested_by) REFERENCES Patron(id)\n",
    ");"
   ]
  },
  {
   "cell_type": "code",
   "execution_count": 22,
   "id": "e86796e2-b2df-4269-b5bd-53b206cc5951",
   "metadata": {},
   "outputs": [
    {
     "data": {
      "text/html": [
       "<span style=\"None\">Running query in &#x27;sqlite:///library_final.db&#x27;</span>"
      ],
      "text/plain": [
       "Running query in 'sqlite:///library_final.db'"
      ]
     },
     "metadata": {},
     "output_type": "display_data"
    },
    {
     "data": {
      "text/html": [
       "<table>\n",
       "    <thead>\n",
       "        <tr>\n",
       "        </tr>\n",
       "    </thead>\n",
       "    <tbody>\n",
       "    </tbody>\n",
       "</table>"
      ],
      "text/plain": [
       "++\n",
       "||\n",
       "++\n",
       "++"
      ]
     },
     "execution_count": 22,
     "metadata": {},
     "output_type": "execute_result"
    }
   ],
   "source": [
    "%%sql\n",
    "CREATE TABLE Events (\n",
    "    event_id INTEGER NOT NULL, \n",
    "    organizer INTEGER NOT NULL, \n",
    "    eventName CHAR(70) NOT NULL, \n",
    "    date CHAR(10) NOT NULL, \n",
    "    roomNum CHAR(10) NOT NULL, \n",
    "    audience CHAR(70),\n",
    "    PRIMARY KEY (event_id), \n",
    "    FOREIGN KEY (organizer) REFERENCES Staff(id)\n",
    ");"
   ]
  },
  {
   "cell_type": "code",
   "execution_count": 24,
   "id": "1fe2175d-90fa-423e-8c13-f2a7edd76193",
   "metadata": {},
   "outputs": [
    {
     "data": {
      "text/html": [
       "<span style=\"None\">Running query in &#x27;sqlite:///library_final.db&#x27;</span>"
      ],
      "text/plain": [
       "Running query in 'sqlite:///library_final.db'"
      ]
     },
     "metadata": {},
     "output_type": "display_data"
    },
    {
     "data": {
      "text/html": [
       "<table>\n",
       "    <thead>\n",
       "        <tr>\n",
       "        </tr>\n",
       "    </thead>\n",
       "    <tbody>\n",
       "    </tbody>\n",
       "</table>"
      ],
      "text/plain": [
       "++\n",
       "||\n",
       "++\n",
       "++"
      ]
     },
     "execution_count": 24,
     "metadata": {},
     "output_type": "execute_result"
    }
   ],
   "source": [
    "%%sql\n",
    "CREATE TABLE EventRegistrations (\n",
    "    registration_id INTEGER, \n",
    "    event_id INTEGER NOT NULL, \n",
    "    patron_id INTEGER NOT NULL, \n",
    "    registration_date CHAR(10) NOT NULL, \n",
    "    PRIMARY KEY (registration_id), \n",
    "    FOREIGN KEY (event_id) REFERENCES Events(event_id), \n",
    "    FOREIGN KEY (patron_id) REFERENCES Patron(id), \n",
    "    UNIQUE(event_id, patron_id)\n",
    ");"
   ]
  },
  {
   "cell_type": "code",
   "execution_count": 26,
   "id": "d3781b11-86f8-4310-b60e-ca3b6f1b25fb",
   "metadata": {},
   "outputs": [
    {
     "data": {
      "text/html": [
       "<span style=\"None\">Running query in &#x27;sqlite:///library_final.db&#x27;</span>"
      ],
      "text/plain": [
       "Running query in 'sqlite:///library_final.db'"
      ]
     },
     "metadata": {},
     "output_type": "display_data"
    },
    {
     "data": {
      "text/html": [
       "<table>\n",
       "    <thead>\n",
       "        <tr>\n",
       "        </tr>\n",
       "    </thead>\n",
       "    <tbody>\n",
       "    </tbody>\n",
       "</table>"
      ],
      "text/plain": [
       "++\n",
       "||\n",
       "++\n",
       "++"
      ]
     },
     "execution_count": 26,
     "metadata": {},
     "output_type": "execute_result"
    }
   ],
   "source": [
    "%%sql\n",
    "CREATE TABLE StaffRecords (\n",
    "    record_id INTEGER, \n",
    "    staff_id INTEGER NOT NULL, \n",
    "    record_type CHAR(40) NOT NULL, \n",
    "    details CHAR(300),\n",
    "    date CHAR(10) NOT NULL,\n",
    "    PRIMARY KEY (record_id),\n",
    "    FOREIGN KEY (staff_id) REFERENCES Staff(id)\n",
    ");"
   ]
  },
  {
   "cell_type": "code",
   "execution_count": 36,
   "id": "05eefb84-cf25-424a-8eaf-310f11b493a5",
   "metadata": {},
   "outputs": [
    {
     "data": {
      "text/html": [
       "<span style=\"None\">Running query in &#x27;sqlite:///library_final.db&#x27;</span>"
      ],
      "text/plain": [
       "Running query in 'sqlite:///library_final.db'"
      ]
     },
     "metadata": {},
     "output_type": "display_data"
    },
    {
     "data": {
      "text/html": [
       "<table>\n",
       "    <thead>\n",
       "        <tr>\n",
       "            <th>name</th>\n",
       "        </tr>\n",
       "    </thead>\n",
       "    <tbody>\n",
       "        <tr>\n",
       "            <td>Items</td>\n",
       "        </tr>\n",
       "        <tr>\n",
       "            <td>Staff</td>\n",
       "        </tr>\n",
       "        <tr>\n",
       "            <td>BorrowingHistory</td>\n",
       "        </tr>\n",
       "        <tr>\n",
       "            <td>AcquisitionRequest</td>\n",
       "        </tr>\n",
       "        <tr>\n",
       "            <td>Events</td>\n",
       "        </tr>\n",
       "        <tr>\n",
       "            <td>EventRegistrations</td>\n",
       "        </tr>\n",
       "        <tr>\n",
       "            <td>StaffRecords</td>\n",
       "        </tr>\n",
       "        <tr>\n",
       "            <td>Patron</td>\n",
       "        </tr>\n",
       "    </tbody>\n",
       "</table>"
      ],
      "text/plain": [
       "+--------------------+\n",
       "|        name        |\n",
       "+--------------------+\n",
       "|       Items        |\n",
       "|       Staff        |\n",
       "|  BorrowingHistory  |\n",
       "| AcquisitionRequest |\n",
       "|       Events       |\n",
       "| EventRegistrations |\n",
       "|    StaffRecords    |\n",
       "|       Patron       |\n",
       "+--------------------+"
      ]
     },
     "execution_count": 36,
     "metadata": {},
     "output_type": "execute_result"
    }
   ],
   "source": [
    "%%sql\n",
    "SELECT name FROM sqlite_master WHERE type='table';"
   ]
  },
  {
   "cell_type": "markdown",
   "id": "60b715a1-1e94-4fd3-b0af-99be9607e836",
   "metadata": {},
   "source": [
    "# Patron - Populate table"
   ]
  },
  {
   "cell_type": "code",
   "execution_count": 32,
   "id": "61db74d2-108b-4714-a7e3-8d47cda14a33",
   "metadata": {},
   "outputs": [
    {
     "data": {
      "text/html": [
       "<span style=\"None\">Running query in &#x27;sqlite:///library_final.db&#x27;</span>"
      ],
      "text/plain": [
       "Running query in 'sqlite:///library_final.db'"
      ]
     },
     "metadata": {},
     "output_type": "display_data"
    },
    {
     "data": {
      "text/html": [
       "<table>\n",
       "    <thead>\n",
       "        <tr>\n",
       "        </tr>\n",
       "    </thead>\n",
       "    <tbody>\n",
       "    </tbody>\n",
       "</table>"
      ],
      "text/plain": [
       "++\n",
       "||\n",
       "++\n",
       "++"
      ]
     },
     "execution_count": 32,
     "metadata": {},
     "output_type": "execute_result"
    }
   ],
   "source": [
    "%%sql\n",
    "DROP TABLE Patron;"
   ]
  },
  {
   "cell_type": "code",
   "execution_count": 38,
   "id": "087975f0-6651-40cd-9611-46c991243228",
   "metadata": {},
   "outputs": [
    {
     "data": {
      "text/html": [
       "<span style=\"None\">Running query in &#x27;sqlite:///library_final.db&#x27;</span>"
      ],
      "text/plain": [
       "Running query in 'sqlite:///library_final.db'"
      ]
     },
     "metadata": {},
     "output_type": "display_data"
    },
    {
     "data": {
      "text/html": [
       "<span style=\"color: green\">1 rows affected.</span>"
      ],
      "text/plain": [
       "1 rows affected."
      ]
     },
     "metadata": {},
     "output_type": "display_data"
    },
    {
     "data": {
      "text/html": [
       "<span style=\"color: green\">1 rows affected.</span>"
      ],
      "text/plain": [
       "1 rows affected."
      ]
     },
     "metadata": {},
     "output_type": "display_data"
    },
    {
     "data": {
      "text/html": [
       "<span style=\"color: green\">1 rows affected.</span>"
      ],
      "text/plain": [
       "1 rows affected."
      ]
     },
     "metadata": {},
     "output_type": "display_data"
    },
    {
     "data": {
      "text/html": [
       "<span style=\"color: green\">1 rows affected.</span>"
      ],
      "text/plain": [
       "1 rows affected."
      ]
     },
     "metadata": {},
     "output_type": "display_data"
    },
    {
     "data": {
      "text/html": [
       "<span style=\"color: green\">1 rows affected.</span>"
      ],
      "text/plain": [
       "1 rows affected."
      ]
     },
     "metadata": {},
     "output_type": "display_data"
    },
    {
     "data": {
      "text/html": [
       "<span style=\"color: green\">1 rows affected.</span>"
      ],
      "text/plain": [
       "1 rows affected."
      ]
     },
     "metadata": {},
     "output_type": "display_data"
    },
    {
     "data": {
      "text/html": [
       "<span style=\"color: green\">1 rows affected.</span>"
      ],
      "text/plain": [
       "1 rows affected."
      ]
     },
     "metadata": {},
     "output_type": "display_data"
    },
    {
     "data": {
      "text/html": [
       "<span style=\"color: green\">1 rows affected.</span>"
      ],
      "text/plain": [
       "1 rows affected."
      ]
     },
     "metadata": {},
     "output_type": "display_data"
    },
    {
     "data": {
      "text/html": [
       "<span style=\"color: green\">1 rows affected.</span>"
      ],
      "text/plain": [
       "1 rows affected."
      ]
     },
     "metadata": {},
     "output_type": "display_data"
    },
    {
     "data": {
      "text/html": [
       "<span style=\"color: green\">1 rows affected.</span>"
      ],
      "text/plain": [
       "1 rows affected."
      ]
     },
     "metadata": {},
     "output_type": "display_data"
    },
    {
     "data": {
      "text/html": [
       "<table>\n",
       "    <thead>\n",
       "        <tr>\n",
       "        </tr>\n",
       "    </thead>\n",
       "    <tbody>\n",
       "    </tbody>\n",
       "</table>"
      ],
      "text/plain": [
       "++\n",
       "||\n",
       "++\n",
       "++"
      ]
     },
     "execution_count": 38,
     "metadata": {},
     "output_type": "execute_result"
    }
   ],
   "source": [
    "%%sql\n",
    "INSERT INTO Patron VALUES (1, \"Hayder\", \"AL-Musawi\", \"haider.mus@test.com\"); \n",
    "INSERT INTO Patron VALUES (2, \"Justinne\", \"Baltazar\", \"justinne.bal@test.com\");\n",
    "INSERT INTO Patron VALUES (3, \"Jared\", \"McCain\", \"jmccain@gmail.com\");\n",
    "INSERT INTO Patron VALUES (4, \"Nate\", \"McKinnon\", \"nmckinnon@gmail.com\");\n",
    "INSERT INTO Patron VALUES (5, \"Cale\", \"Makar\", \"cmakar@gmail.com\");\n",
    "INSERT INTO Patron VALUES (6, \"Blake\", \"Griffin\", \"bgriffin@gmail.com\");\n",
    "INSERT INTO Patron VALUES (7, \"Toby\", \"Fournier\", \"tfournier@gmail.com\");\n",
    "INSERT INTO Patron VALUES (8, \"Reigan\", \"Richardson\", \"rrichardson@gmail.com\");\n",
    "INSERT INTO Patron VALUES (9, \"Cameron\", \"Brink\", \"cbrink@gmail.com\");\n",
    "INSERT INTO Patron VALUES (10, \"Quinn\", \"Hughes\", \"qhughes@gmail.com\");"
   ]
  },
  {
   "cell_type": "code",
   "execution_count": null,
   "id": "a7a452bb-f216-4a6a-8b45-37ce6b0bc8ed",
   "metadata": {},
   "outputs": [],
   "source": []
  },
  {
   "cell_type": "code",
   "execution_count": 40,
   "id": "b58e07a9-8624-4d0b-800d-441b23296eea",
   "metadata": {},
   "outputs": [
    {
     "data": {
      "text/html": [
       "<span style=\"None\">Running query in &#x27;sqlite:///library_final.db&#x27;</span>"
      ],
      "text/plain": [
       "Running query in 'sqlite:///library_final.db'"
      ]
     },
     "metadata": {},
     "output_type": "display_data"
    },
    {
     "data": {
      "text/html": [
       "<span style=\"color: green\">1 rows affected.</span>"
      ],
      "text/plain": [
       "1 rows affected."
      ]
     },
     "metadata": {},
     "output_type": "display_data"
    },
    {
     "data": {
      "text/html": [
       "<span style=\"color: green\">1 rows affected.</span>"
      ],
      "text/plain": [
       "1 rows affected."
      ]
     },
     "metadata": {},
     "output_type": "display_data"
    },
    {
     "data": {
      "text/html": [
       "<span style=\"color: green\">1 rows affected.</span>"
      ],
      "text/plain": [
       "1 rows affected."
      ]
     },
     "metadata": {},
     "output_type": "display_data"
    },
    {
     "data": {
      "text/html": [
       "<span style=\"color: green\">1 rows affected.</span>"
      ],
      "text/plain": [
       "1 rows affected."
      ]
     },
     "metadata": {},
     "output_type": "display_data"
    },
    {
     "data": {
      "text/html": [
       "<span style=\"color: green\">1 rows affected.</span>"
      ],
      "text/plain": [
       "1 rows affected."
      ]
     },
     "metadata": {},
     "output_type": "display_data"
    },
    {
     "data": {
      "text/html": [
       "<span style=\"color: green\">1 rows affected.</span>"
      ],
      "text/plain": [
       "1 rows affected."
      ]
     },
     "metadata": {},
     "output_type": "display_data"
    },
    {
     "data": {
      "text/html": [
       "<span style=\"color: green\">1 rows affected.</span>"
      ],
      "text/plain": [
       "1 rows affected."
      ]
     },
     "metadata": {},
     "output_type": "display_data"
    },
    {
     "data": {
      "text/html": [
       "<span style=\"color: green\">1 rows affected.</span>"
      ],
      "text/plain": [
       "1 rows affected."
      ]
     },
     "metadata": {},
     "output_type": "display_data"
    },
    {
     "data": {
      "text/html": [
       "<span style=\"color: green\">1 rows affected.</span>"
      ],
      "text/plain": [
       "1 rows affected."
      ]
     },
     "metadata": {},
     "output_type": "display_data"
    },
    {
     "data": {
      "text/html": [
       "<span style=\"color: green\">1 rows affected.</span>"
      ],
      "text/plain": [
       "1 rows affected."
      ]
     },
     "metadata": {},
     "output_type": "display_data"
    },
    {
     "data": {
      "text/html": [
       "<span style=\"color: green\">1 rows affected.</span>"
      ],
      "text/plain": [
       "1 rows affected."
      ]
     },
     "metadata": {},
     "output_type": "display_data"
    },
    {
     "data": {
      "text/html": [
       "<table>\n",
       "    <thead>\n",
       "        <tr>\n",
       "        </tr>\n",
       "    </thead>\n",
       "    <tbody>\n",
       "    </tbody>\n",
       "</table>"
      ],
      "text/plain": [
       "++\n",
       "||\n",
       "++\n",
       "++"
      ]
     },
     "execution_count": 40,
     "metadata": {},
     "output_type": "execute_result"
    }
   ],
   "source": [
    "%%sql\n",
    "INSERT INTO Patron VALUES (11, \"Brock\", \"Boeser\", \"bboeser@gmail.com\");\n",
    "INSERT INTO Patron VALUES (12, \"Dakota\", \"Joshua\", \"djoshua@gmail.com\");\n",
    "INSERT INTO Patron VALUES (13, \"Beatrice\", \"Laus\", \"blaus@gmail.com\");\n",
    "INSERT INTO Patron VALUES (14, \"Claire\", \"Cottrill\", \"ccottrill@gmail.com\");\n",
    "INSERT INTO Patron VALUES (15, \"Maria\", \"Zardoya\", \"mzardoya@gmail.com\");\n",
    "INSERT INTO Patron VALUES (16, \"Arnold\", \"Zadorov\", \"azadorov@gmail.com\");\n",
    "INSERT INTO Patron VALUES (17, \"Jalen\", \"Brunson\", \"jbrunson@gmail.com\");\n",
    "INSERT INTO Patron VALUES (18, \"Josh\", \"Hart\", \"jhart@gmail.com\");\n",
    "INSERT INTO Patron VALUES (19, \"Josh\", \"Turner\", \"jturner@gmail.com\");\n",
    "INSERT INTO Patron VALUES (20, \"Alex\", \"Turner\", \"aturner@gmail.com\");\n",
    "INSERT INTO Patron VALUES (21, \"Sabrina\", \"Poulin\", \"spoulin@gmail.com\");"
   ]
  },
  {
   "cell_type": "code",
   "execution_count": 44,
   "id": "d09ae931-48f8-47b7-bc9b-4184a40d372d",
   "metadata": {},
   "outputs": [
    {
     "data": {
      "text/html": [
       "<span style=\"None\">Running query in &#x27;sqlite:///library_final.db&#x27;</span>"
      ],
      "text/plain": [
       "Running query in 'sqlite:///library_final.db'"
      ]
     },
     "metadata": {},
     "output_type": "display_data"
    },
    {
     "data": {
      "text/html": [
       "<table>\n",
       "    <thead>\n",
       "        <tr>\n",
       "            <th>id</th>\n",
       "            <th>first_name</th>\n",
       "            <th>last_name</th>\n",
       "            <th>email</th>\n",
       "        </tr>\n",
       "    </thead>\n",
       "    <tbody>\n",
       "        <tr>\n",
       "            <td>1</td>\n",
       "            <td>Hayder</td>\n",
       "            <td>AL-Musawi</td>\n",
       "            <td>haider.mus@test.com</td>\n",
       "        </tr>\n",
       "        <tr>\n",
       "            <td>2</td>\n",
       "            <td>Justinne</td>\n",
       "            <td>Baltazar</td>\n",
       "            <td>justinne.bal@test.com</td>\n",
       "        </tr>\n",
       "        <tr>\n",
       "            <td>3</td>\n",
       "            <td>Jared</td>\n",
       "            <td>McCain</td>\n",
       "            <td>jmccain@gmail.com</td>\n",
       "        </tr>\n",
       "        <tr>\n",
       "            <td>4</td>\n",
       "            <td>Nate</td>\n",
       "            <td>McKinnon</td>\n",
       "            <td>nmckinnon@gmail.com</td>\n",
       "        </tr>\n",
       "        <tr>\n",
       "            <td>5</td>\n",
       "            <td>Cale</td>\n",
       "            <td>Makar</td>\n",
       "            <td>cmakar@gmail.com</td>\n",
       "        </tr>\n",
       "        <tr>\n",
       "            <td>6</td>\n",
       "            <td>Blake</td>\n",
       "            <td>Griffin</td>\n",
       "            <td>bgriffin@gmail.com</td>\n",
       "        </tr>\n",
       "        <tr>\n",
       "            <td>7</td>\n",
       "            <td>Toby</td>\n",
       "            <td>Fournier</td>\n",
       "            <td>tfournier@gmail.com</td>\n",
       "        </tr>\n",
       "        <tr>\n",
       "            <td>8</td>\n",
       "            <td>Reigan</td>\n",
       "            <td>Richardson</td>\n",
       "            <td>rrichardson@gmail.com</td>\n",
       "        </tr>\n",
       "        <tr>\n",
       "            <td>9</td>\n",
       "            <td>Cameron</td>\n",
       "            <td>Brink</td>\n",
       "            <td>cbrink@gmail.com</td>\n",
       "        </tr>\n",
       "        <tr>\n",
       "            <td>10</td>\n",
       "            <td>Quinn</td>\n",
       "            <td>Hughes</td>\n",
       "            <td>qhughes@gmail.com</td>\n",
       "        </tr>\n",
       "        <tr>\n",
       "            <td>11</td>\n",
       "            <td>Brock</td>\n",
       "            <td>Boeser</td>\n",
       "            <td>bboeser@gmail.com</td>\n",
       "        </tr>\n",
       "        <tr>\n",
       "            <td>12</td>\n",
       "            <td>Dakota</td>\n",
       "            <td>Joshua</td>\n",
       "            <td>djoshua@gmail.com</td>\n",
       "        </tr>\n",
       "        <tr>\n",
       "            <td>13</td>\n",
       "            <td>Beatrice</td>\n",
       "            <td>Laus</td>\n",
       "            <td>blaus@gmail.com</td>\n",
       "        </tr>\n",
       "        <tr>\n",
       "            <td>14</td>\n",
       "            <td>Claire</td>\n",
       "            <td>Cottrill</td>\n",
       "            <td>ccottrill@gmail.com</td>\n",
       "        </tr>\n",
       "        <tr>\n",
       "            <td>15</td>\n",
       "            <td>Maria</td>\n",
       "            <td>Zardoya</td>\n",
       "            <td>mzardoya@gmail.com</td>\n",
       "        </tr>\n",
       "        <tr>\n",
       "            <td>16</td>\n",
       "            <td>Arnold</td>\n",
       "            <td>Zadorov</td>\n",
       "            <td>azadorov@gmail.com</td>\n",
       "        </tr>\n",
       "        <tr>\n",
       "            <td>17</td>\n",
       "            <td>Jalen</td>\n",
       "            <td>Brunson</td>\n",
       "            <td>jbrunson@gmail.com</td>\n",
       "        </tr>\n",
       "        <tr>\n",
       "            <td>18</td>\n",
       "            <td>Josh</td>\n",
       "            <td>Hart</td>\n",
       "            <td>jhart@gmail.com</td>\n",
       "        </tr>\n",
       "        <tr>\n",
       "            <td>19</td>\n",
       "            <td>Josh</td>\n",
       "            <td>Turner</td>\n",
       "            <td>jturner@gmail.com</td>\n",
       "        </tr>\n",
       "        <tr>\n",
       "            <td>20</td>\n",
       "            <td>Alex</td>\n",
       "            <td>Turner</td>\n",
       "            <td>aturner@gmail.com</td>\n",
       "        </tr>\n",
       "        <tr>\n",
       "            <td>21</td>\n",
       "            <td>Sabrina</td>\n",
       "            <td>Poulin</td>\n",
       "            <td>spoulin@gmail.com</td>\n",
       "        </tr>\n",
       "    </tbody>\n",
       "</table>"
      ],
      "text/plain": [
       "+----+------------+------------+-----------------------+\n",
       "| id | first_name | last_name  |         email         |\n",
       "+----+------------+------------+-----------------------+\n",
       "| 1  |   Hayder   | AL-Musawi  |  haider.mus@test.com  |\n",
       "| 2  |  Justinne  |  Baltazar  | justinne.bal@test.com |\n",
       "| 3  |   Jared    |   McCain   |   jmccain@gmail.com   |\n",
       "| 4  |    Nate    |  McKinnon  |  nmckinnon@gmail.com  |\n",
       "| 5  |    Cale    |   Makar    |    cmakar@gmail.com   |\n",
       "| 6  |   Blake    |  Griffin   |   bgriffin@gmail.com  |\n",
       "| 7  |    Toby    |  Fournier  |  tfournier@gmail.com  |\n",
       "| 8  |   Reigan   | Richardson | rrichardson@gmail.com |\n",
       "| 9  |  Cameron   |   Brink    |    cbrink@gmail.com   |\n",
       "| 10 |   Quinn    |   Hughes   |   qhughes@gmail.com   |\n",
       "| 11 |   Brock    |   Boeser   |   bboeser@gmail.com   |\n",
       "| 12 |   Dakota   |   Joshua   |   djoshua@gmail.com   |\n",
       "| 13 |  Beatrice  |    Laus    |    blaus@gmail.com    |\n",
       "| 14 |   Claire   |  Cottrill  |  ccottrill@gmail.com  |\n",
       "| 15 |   Maria    |  Zardoya   |   mzardoya@gmail.com  |\n",
       "| 16 |   Arnold   |  Zadorov   |   azadorov@gmail.com  |\n",
       "| 17 |   Jalen    |  Brunson   |   jbrunson@gmail.com  |\n",
       "| 18 |    Josh    |    Hart    |    jhart@gmail.com    |\n",
       "| 19 |    Josh    |   Turner   |   jturner@gmail.com   |\n",
       "| 20 |    Alex    |   Turner   |   aturner@gmail.com   |\n",
       "| 21 |  Sabrina   |   Poulin   |   spoulin@gmail.com   |\n",
       "+----+------------+------------+-----------------------+"
      ]
     },
     "execution_count": 44,
     "metadata": {},
     "output_type": "execute_result"
    }
   ],
   "source": [
    "%%sql\n",
    "SELECT * FROM Patron;"
   ]
  },
  {
   "cell_type": "markdown",
   "id": "8c24b453-6e0a-4890-97cb-6973ae281482",
   "metadata": {},
   "source": [
    "# Staff + StaffRecords Data"
   ]
  },
  {
   "cell_type": "code",
   "execution_count": 46,
   "id": "478cf7be-0632-495b-8732-9dcda739f824",
   "metadata": {},
   "outputs": [
    {
     "data": {
      "text/html": [
       "<span style=\"None\">Running query in &#x27;sqlite:///library_final.db&#x27;</span>"
      ],
      "text/plain": [
       "Running query in 'sqlite:///library_final.db'"
      ]
     },
     "metadata": {},
     "output_type": "display_data"
    },
    {
     "data": {
      "text/html": [
       "<span style=\"color: green\">1 rows affected.</span>"
      ],
      "text/plain": [
       "1 rows affected."
      ]
     },
     "metadata": {},
     "output_type": "display_data"
    },
    {
     "data": {
      "text/html": [
       "<span style=\"color: green\">1 rows affected.</span>"
      ],
      "text/plain": [
       "1 rows affected."
      ]
     },
     "metadata": {},
     "output_type": "display_data"
    },
    {
     "data": {
      "text/html": [
       "<span style=\"color: green\">1 rows affected.</span>"
      ],
      "text/plain": [
       "1 rows affected."
      ]
     },
     "metadata": {},
     "output_type": "display_data"
    },
    {
     "data": {
      "text/html": [
       "<span style=\"color: green\">1 rows affected.</span>"
      ],
      "text/plain": [
       "1 rows affected."
      ]
     },
     "metadata": {},
     "output_type": "display_data"
    },
    {
     "data": {
      "text/html": [
       "<span style=\"color: green\">1 rows affected.</span>"
      ],
      "text/plain": [
       "1 rows affected."
      ]
     },
     "metadata": {},
     "output_type": "display_data"
    },
    {
     "data": {
      "text/html": [
       "<span style=\"color: green\">1 rows affected.</span>"
      ],
      "text/plain": [
       "1 rows affected."
      ]
     },
     "metadata": {},
     "output_type": "display_data"
    },
    {
     "data": {
      "text/html": [
       "<span style=\"color: green\">1 rows affected.</span>"
      ],
      "text/plain": [
       "1 rows affected."
      ]
     },
     "metadata": {},
     "output_type": "display_data"
    },
    {
     "data": {
      "text/html": [
       "<span style=\"color: green\">1 rows affected.</span>"
      ],
      "text/plain": [
       "1 rows affected."
      ]
     },
     "metadata": {},
     "output_type": "display_data"
    },
    {
     "data": {
      "text/html": [
       "<span style=\"color: green\">1 rows affected.</span>"
      ],
      "text/plain": [
       "1 rows affected."
      ]
     },
     "metadata": {},
     "output_type": "display_data"
    },
    {
     "data": {
      "text/html": [
       "<span style=\"color: green\">1 rows affected.</span>"
      ],
      "text/plain": [
       "1 rows affected."
      ]
     },
     "metadata": {},
     "output_type": "display_data"
    },
    {
     "data": {
      "text/html": [
       "<span style=\"color: green\">1 rows affected.</span>"
      ],
      "text/plain": [
       "1 rows affected."
      ]
     },
     "metadata": {},
     "output_type": "display_data"
    },
    {
     "data": {
      "text/html": [
       "<span style=\"color: green\">1 rows affected.</span>"
      ],
      "text/plain": [
       "1 rows affected."
      ]
     },
     "metadata": {},
     "output_type": "display_data"
    },
    {
     "data": {
      "text/html": [
       "<span style=\"color: green\">1 rows affected.</span>"
      ],
      "text/plain": [
       "1 rows affected."
      ]
     },
     "metadata": {},
     "output_type": "display_data"
    },
    {
     "data": {
      "text/html": [
       "<span style=\"color: green\">1 rows affected.</span>"
      ],
      "text/plain": [
       "1 rows affected."
      ]
     },
     "metadata": {},
     "output_type": "display_data"
    },
    {
     "data": {
      "text/html": [
       "<table>\n",
       "    <thead>\n",
       "        <tr>\n",
       "        </tr>\n",
       "    </thead>\n",
       "    <tbody>\n",
       "    </tbody>\n",
       "</table>"
      ],
      "text/plain": [
       "++\n",
       "||\n",
       "++\n",
       "++"
      ]
     },
     "execution_count": 46,
     "metadata": {},
     "output_type": "execute_result"
    }
   ],
   "source": [
    "%%sql\n",
    "INSERT INTO Staff VALUES (1, \"Manager\", 100000);\n",
    "INSERT INTO Staff VALUES (2, \"Manager\", 100000);\n",
    "INSERT INTO Staff VALUES (3, \"Volunteer\", 0);\n",
    "INSERT INTO Staff VALUES (4, \"Shelver\", 13000);\n",
    "INSERT INTO Staff VALUES (5, \"Shelver\", 13000);\n",
    "INSERT INTO Staff VALUES (6, \"Shelver\", 13000);\n",
    "INSERT INTO Staff VALUES (7, \"Librarian\", 70000);\n",
    "INSERT INTO Staff VALUES (8, \"Assitant Librarian\", 65000);\n",
    "INSERT INTO Staff VALUES (11, \"Manager\", 40000);\n",
    "INSERT INTO Staff VALUES (12, \"Clerk\", 20000);\n",
    "INSERT INTO Staff VALUES (13, \"Clerk\", 20000);\n",
    "INSERT INTO Staff VALUES (14, \"Archivist\", 35000);\n",
    "INSERT INTO Staff VALUES (16, \"Volunteer\", 0);\n",
    "INSERT INTO Staff VALUES (18, \"Volunteer\", 0);"
   ]
  },
  {
   "cell_type": "code",
   "execution_count": 48,
   "id": "ef463062-cb10-4a6b-b62a-168af70a8652",
   "metadata": {},
   "outputs": [
    {
     "data": {
      "text/html": [
       "<span style=\"None\">Running query in &#x27;sqlite:///library_final.db&#x27;</span>"
      ],
      "text/plain": [
       "Running query in 'sqlite:///library_final.db'"
      ]
     },
     "metadata": {},
     "output_type": "display_data"
    },
    {
     "data": {
      "text/html": [
       "<table>\n",
       "    <thead>\n",
       "        <tr>\n",
       "            <th>id</th>\n",
       "            <th>position</th>\n",
       "            <th>salary</th>\n",
       "        </tr>\n",
       "    </thead>\n",
       "    <tbody>\n",
       "        <tr>\n",
       "            <td>1</td>\n",
       "            <td>Manager</td>\n",
       "            <td>100000.0</td>\n",
       "        </tr>\n",
       "        <tr>\n",
       "            <td>2</td>\n",
       "            <td>Manager</td>\n",
       "            <td>100000.0</td>\n",
       "        </tr>\n",
       "        <tr>\n",
       "            <td>3</td>\n",
       "            <td>Volunteer</td>\n",
       "            <td>0.0</td>\n",
       "        </tr>\n",
       "        <tr>\n",
       "            <td>4</td>\n",
       "            <td>Shelver</td>\n",
       "            <td>13000.0</td>\n",
       "        </tr>\n",
       "        <tr>\n",
       "            <td>5</td>\n",
       "            <td>Shelver</td>\n",
       "            <td>13000.0</td>\n",
       "        </tr>\n",
       "        <tr>\n",
       "            <td>6</td>\n",
       "            <td>Shelver</td>\n",
       "            <td>13000.0</td>\n",
       "        </tr>\n",
       "        <tr>\n",
       "            <td>7</td>\n",
       "            <td>Librarian</td>\n",
       "            <td>70000.0</td>\n",
       "        </tr>\n",
       "        <tr>\n",
       "            <td>8</td>\n",
       "            <td>Assitant Librarian</td>\n",
       "            <td>65000.0</td>\n",
       "        </tr>\n",
       "        <tr>\n",
       "            <td>11</td>\n",
       "            <td>Manager</td>\n",
       "            <td>40000.0</td>\n",
       "        </tr>\n",
       "        <tr>\n",
       "            <td>12</td>\n",
       "            <td>Clerk</td>\n",
       "            <td>20000.0</td>\n",
       "        </tr>\n",
       "        <tr>\n",
       "            <td>13</td>\n",
       "            <td>Clerk</td>\n",
       "            <td>20000.0</td>\n",
       "        </tr>\n",
       "        <tr>\n",
       "            <td>14</td>\n",
       "            <td>Archivist</td>\n",
       "            <td>35000.0</td>\n",
       "        </tr>\n",
       "        <tr>\n",
       "            <td>16</td>\n",
       "            <td>Volunteer</td>\n",
       "            <td>0.0</td>\n",
       "        </tr>\n",
       "        <tr>\n",
       "            <td>18</td>\n",
       "            <td>Volunteer</td>\n",
       "            <td>0.0</td>\n",
       "        </tr>\n",
       "    </tbody>\n",
       "</table>"
      ],
      "text/plain": [
       "+----+--------------------+----------+\n",
       "| id |      position      |  salary  |\n",
       "+----+--------------------+----------+\n",
       "| 1  |      Manager       | 100000.0 |\n",
       "| 2  |      Manager       | 100000.0 |\n",
       "| 3  |     Volunteer      |   0.0    |\n",
       "| 4  |      Shelver       | 13000.0  |\n",
       "| 5  |      Shelver       | 13000.0  |\n",
       "| 6  |      Shelver       | 13000.0  |\n",
       "| 7  |     Librarian      | 70000.0  |\n",
       "| 8  | Assitant Librarian | 65000.0  |\n",
       "| 11 |      Manager       | 40000.0  |\n",
       "| 12 |       Clerk        | 20000.0  |\n",
       "| 13 |       Clerk        | 20000.0  |\n",
       "| 14 |     Archivist      | 35000.0  |\n",
       "| 16 |     Volunteer      |   0.0    |\n",
       "| 18 |     Volunteer      |   0.0    |\n",
       "+----+--------------------+----------+"
      ]
     },
     "execution_count": 48,
     "metadata": {},
     "output_type": "execute_result"
    }
   ],
   "source": [
    "%%sql\n",
    "SELECT * FROM Staff;"
   ]
  },
  {
   "cell_type": "code",
   "execution_count": 54,
   "id": "3627b498-7e97-4285-acb2-eddef7637e63",
   "metadata": {},
   "outputs": [
    {
     "data": {
      "text/html": [
       "<span style=\"None\">Running query in &#x27;sqlite:///library_final.db&#x27;</span>"
      ],
      "text/plain": [
       "Running query in 'sqlite:///library_final.db'"
      ]
     },
     "metadata": {},
     "output_type": "display_data"
    },
    {
     "data": {
      "text/html": [
       "<table>\n",
       "    <thead>\n",
       "        <tr>\n",
       "            <th>record_id</th>\n",
       "            <th>staff_id</th>\n",
       "            <th>record_type</th>\n",
       "            <th>details</th>\n",
       "            <th>date</th>\n",
       "        </tr>\n",
       "    </thead>\n",
       "    <tbody>\n",
       "        <tr>\n",
       "            <td>1</td>\n",
       "            <td>1</td>\n",
       "            <td>Performance Review</td>\n",
       "            <td>Excellent leadership skills. Successfully managed budget constraints and improved staff morale.</td>\n",
       "            <td>2024-11-15</td>\n",
       "        </tr>\n",
       "        <tr>\n",
       "            <td>2</td>\n",
       "            <td>3</td>\n",
       "            <td>Note</td>\n",
       "            <td>Completed Volunteer Orientation Program with outstanding feedback from patrons.</td>\n",
       "            <td>2024-10-22</td>\n",
       "        </tr>\n",
       "        <tr>\n",
       "            <td>3</td>\n",
       "            <td>7</td>\n",
       "            <td>Certification</td>\n",
       "            <td>Received Advanced Library Science Certification from American Library Association.</td>\n",
       "            <td>2024-08-05</td>\n",
       "        </tr>\n",
       "        <tr>\n",
       "            <td>4</td>\n",
       "            <td>4</td>\n",
       "            <td>Warning</td>\n",
       "            <td>Verbal warning issued for repeated tardiness. Improvement expected within 30 days.</td>\n",
       "            <td>2024-12-03</td>\n",
       "        </tr>\n",
       "        <tr>\n",
       "            <td>5</td>\n",
       "            <td>8</td>\n",
       "            <td>Commendation</td>\n",
       "            <td>Received Employee of the Month for developing the new children reading program.</td>\n",
       "            <td>2025-01-10</td>\n",
       "        </tr>\n",
       "        <tr>\n",
       "            <td>6</td>\n",
       "            <td>11</td>\n",
       "            <td>Performance Review</td>\n",
       "            <td>Meeting expectations. Suggested improvements in team communication.</td>\n",
       "            <td>2024-09-18</td>\n",
       "        </tr>\n",
       "        <tr>\n",
       "            <td>7</td>\n",
       "            <td>14</td>\n",
       "            <td>Commendation</td>\n",
       "            <td>Successfully completed digitization of rare manuscript collection ahead of schedule.</td>\n",
       "            <td>2024-07-30</td>\n",
       "        </tr>\n",
       "        <tr>\n",
       "            <td>8</td>\n",
       "            <td>12</td>\n",
       "            <td>Performance Review</td>\n",
       "            <td>Being evaluated for Senior Clerk position. Assessment ongoing.</td>\n",
       "            <td>2025-02-01</td>\n",
       "        </tr>\n",
       "        <tr>\n",
       "            <td>9</td>\n",
       "            <td>2</td>\n",
       "            <td>Leave Request</td>\n",
       "            <td>Approved sabbatical for professional development. Three months starting June 2025.</td>\n",
       "            <td>2025-02-15</td>\n",
       "        </tr>\n",
       "        <tr>\n",
       "            <td>10</td>\n",
       "            <td>16</td>\n",
       "            <td>Training</td>\n",
       "            <td>Completed advanced database management course to assist with digital catalog system.</td>\n",
       "            <td>2024-11-05</td>\n",
       "        </tr>\n",
       "    </tbody>\n",
       "</table>"
      ],
      "text/plain": [
       "+-----------+----------+--------------------+-------------------------------------------------------------------------------------------------+------------+\n",
       "| record_id | staff_id |    record_type     |                                             details                                             |    date    |\n",
       "+-----------+----------+--------------------+-------------------------------------------------------------------------------------------------+------------+\n",
       "|     1     |    1     | Performance Review | Excellent leadership skills. Successfully managed budget constraints and improved staff morale. | 2024-11-15 |\n",
       "|     2     |    3     |        Note        |         Completed Volunteer Orientation Program with outstanding feedback from patrons.         | 2024-10-22 |\n",
       "|     3     |    7     |   Certification    |        Received Advanced Library Science Certification from American Library Association.       | 2024-08-05 |\n",
       "|     4     |    4     |      Warning       |        Verbal warning issued for repeated tardiness. Improvement expected within 30 days.       | 2024-12-03 |\n",
       "|     5     |    8     |    Commendation    |         Received Employee of the Month for developing the new children reading program.         | 2025-01-10 |\n",
       "|     6     |    11    | Performance Review |               Meeting expectations. Suggested improvements in team communication.               | 2024-09-18 |\n",
       "|     7     |    14    |    Commendation    |       Successfully completed digitization of rare manuscript collection ahead of schedule.      | 2024-07-30 |\n",
       "|     8     |    12    | Performance Review |                  Being evaluated for Senior Clerk position. Assessment ongoing.                 | 2025-02-01 |\n",
       "|     9     |    2     |   Leave Request    |        Approved sabbatical for professional development. Three months starting June 2025.       | 2025-02-15 |\n",
       "|     10    |    16    |      Training      |       Completed advanced database management course to assist with digital catalog system.      | 2024-11-05 |\n",
       "+-----------+----------+--------------------+-------------------------------------------------------------------------------------------------+------------+"
      ]
     },
     "execution_count": 54,
     "metadata": {},
     "output_type": "execute_result"
    }
   ],
   "source": [
    "%%sql\n",
    "SELECT * FROM StaffRecords;"
   ]
  },
  {
   "cell_type": "code",
   "execution_count": 52,
   "id": "1106b531-8961-4bab-8cd7-d3ed5430d227",
   "metadata": {},
   "outputs": [
    {
     "data": {
      "text/html": [
       "<span style=\"None\">Running query in &#x27;sqlite:///library_final.db&#x27;</span>"
      ],
      "text/plain": [
       "Running query in 'sqlite:///library_final.db'"
      ]
     },
     "metadata": {},
     "output_type": "display_data"
    },
    {
     "data": {
      "text/html": [
       "<span style=\"color: green\">10 rows affected.</span>"
      ],
      "text/plain": [
       "10 rows affected."
      ]
     },
     "metadata": {},
     "output_type": "display_data"
    },
    {
     "data": {
      "text/html": [
       "<table>\n",
       "    <thead>\n",
       "        <tr>\n",
       "        </tr>\n",
       "    </thead>\n",
       "    <tbody>\n",
       "    </tbody>\n",
       "</table>"
      ],
      "text/plain": [
       "++\n",
       "||\n",
       "++\n",
       "++"
      ]
     },
     "execution_count": 52,
     "metadata": {},
     "output_type": "execute_result"
    }
   ],
   "source": [
    "%%sql\n",
    "INSERT INTO StaffRecords (record_id, staff_id, record_type, details, date)\n",
    "VALUES\n",
    "(1, 1, 'Performance Review', 'Excellent leadership skills. Successfully managed budget constraints and improved staff morale.', '2024-11-15'),\n",
    "(2, 3, 'Note', 'Completed Volunteer Orientation Program with outstanding feedback from patrons.', '2024-10-22'),\n",
    "(3, 7, 'Certification', 'Received Advanced Library Science Certification from American Library Association.', '2024-08-05'),\n",
    "(4, 4, 'Warning', 'Verbal warning issued for repeated tardiness. Improvement expected within 30 days.', '2024-12-03'),\n",
    "(5, 8, 'Commendation', 'Received Employee of the Month for developing the new children reading program.', '2025-01-10'),\n",
    "(6, 11, 'Performance Review', 'Meeting expectations. Suggested improvements in team communication.', '2024-09-18'),\n",
    "(7, 14, 'Commendation', 'Successfully completed digitization of rare manuscript collection ahead of schedule.', '2024-07-30'),\n",
    "(8, 12, 'Performance Review', 'Being evaluated for Senior Clerk position. Assessment ongoing.', '2025-02-01'),\n",
    "(9, 2, 'Leave Request', 'Approved sabbatical for professional development. Three months starting June 2025.', '2025-02-15'),\n",
    "(10, 16, 'Training', 'Completed advanced database management course to assist with digital catalog system.', '2024-11-05');"
   ]
  },
  {
   "cell_type": "code",
   "execution_count": 23,
   "id": "8e175816-bead-418e-bb61-05cfe833db34",
   "metadata": {},
   "outputs": [
    {
     "data": {
      "text/html": [
       "<span style=\"None\">Running query in &#x27;sqlite:///new_library.db&#x27;</span>"
      ],
      "text/plain": [
       "Running query in 'sqlite:///new_library.db'"
      ]
     },
     "metadata": {},
     "output_type": "display_data"
    },
    {
     "data": {
      "text/html": [
       "<table>\n",
       "    <thead>\n",
       "        <tr>\n",
       "        </tr>\n",
       "    </thead>\n",
       "    <tbody>\n",
       "    </tbody>\n",
       "</table>"
      ],
      "text/plain": [
       "++\n",
       "||\n",
       "++\n",
       "++"
      ]
     },
     "execution_count": 23,
     "metadata": {},
     "output_type": "execute_result"
    }
   ],
   "source": [
    "%%sql\n",
    "DROP TABLE EventRegistrations;\n",
    "DROP TABLE Events;"
   ]
  },
  {
   "cell_type": "markdown",
   "id": "be754e33-5ac9-49db-9b03-039c59d0e085",
   "metadata": {},
   "source": [
    "# Events Data"
   ]
  },
  {
   "cell_type": "code",
   "execution_count": 62,
   "id": "418c940a-3b86-47db-a7bc-19cbd7344698",
   "metadata": {},
   "outputs": [
    {
     "data": {
      "text/html": [
       "<span style=\"None\">Running query in &#x27;sqlite:///library_final.db&#x27;</span>"
      ],
      "text/plain": [
       "Running query in 'sqlite:///library_final.db'"
      ]
     },
     "metadata": {},
     "output_type": "display_data"
    },
    {
     "data": {
      "text/html": [
       "<table>\n",
       "    <thead>\n",
       "        <tr>\n",
       "            <th>event_id</th>\n",
       "            <th>organizer</th>\n",
       "            <th>eventName</th>\n",
       "            <th>date</th>\n",
       "            <th>roomNum</th>\n",
       "            <th>audience</th>\n",
       "        </tr>\n",
       "    </thead>\n",
       "    <tbody>\n",
       "        <tr>\n",
       "            <td>1</td>\n",
       "            <td>2</td>\n",
       "            <td>Book Club</td>\n",
       "            <td>2025-12-19</td>\n",
       "            <td>4332</td>\n",
       "            <td>Young Adults</td>\n",
       "        </tr>\n",
       "        <tr>\n",
       "            <td>2</td>\n",
       "            <td>1</td>\n",
       "            <td>Book Club</td>\n",
       "            <td>2025-10-12</td>\n",
       "            <td>4332</td>\n",
       "            <td>Adult Fiction</td>\n",
       "        </tr>\n",
       "        <tr>\n",
       "            <td>3</td>\n",
       "            <td>7</td>\n",
       "            <td>Book Club</td>\n",
       "            <td>2025-4-12</td>\n",
       "            <td>3121</td>\n",
       "            <td>Crime and Mystery</td>\n",
       "        </tr>\n",
       "        <tr>\n",
       "            <td>4</td>\n",
       "            <td>11</td>\n",
       "            <td>Games for English Learners</td>\n",
       "            <td>2025-4-10</td>\n",
       "            <td>3120</td>\n",
       "            <td>Beginner English Speakers</td>\n",
       "        </tr>\n",
       "        <tr>\n",
       "            <td>5</td>\n",
       "            <td>11</td>\n",
       "            <td>Games for English Learners</td>\n",
       "            <td>2025-5-10</td>\n",
       "            <td>3120</td>\n",
       "            <td>Beginner English Speakers</td>\n",
       "        </tr>\n",
       "        <tr>\n",
       "            <td>6</td>\n",
       "            <td>12</td>\n",
       "            <td>Getting Started with Computers</td>\n",
       "            <td>2025-5-15</td>\n",
       "            <td>4310</td>\n",
       "            <td>Computers and Technology</td>\n",
       "        </tr>\n",
       "        <tr>\n",
       "            <td>7</td>\n",
       "            <td>6</td>\n",
       "            <td>Employment Services</td>\n",
       "            <td>2025-6-18</td>\n",
       "            <td>4311</td>\n",
       "            <td>Newcomers</td>\n",
       "        </tr>\n",
       "        <tr>\n",
       "            <td>8</td>\n",
       "            <td>4</td>\n",
       "            <td>Employment Services</td>\n",
       "            <td>2025-6-28</td>\n",
       "            <td>4311</td>\n",
       "            <td>Newcomers</td>\n",
       "        </tr>\n",
       "        <tr>\n",
       "            <td>9</td>\n",
       "            <td>8</td>\n",
       "            <td>CanFilmDay Screening</td>\n",
       "            <td>2025-9-6</td>\n",
       "            <td>3300</td>\n",
       "            <td>Film and TV</td>\n",
       "        </tr>\n",
       "        <tr>\n",
       "            <td>10</td>\n",
       "            <td>2</td>\n",
       "            <td>Book Club</td>\n",
       "            <td>2025-01-15</td>\n",
       "            <td>4330</td>\n",
       "            <td>Adult Fiction</td>\n",
       "        </tr>\n",
       "        <tr>\n",
       "            <td>11</td>\n",
       "            <td>7</td>\n",
       "            <td>Book Club</td>\n",
       "            <td>2025-02-16</td>\n",
       "            <td>4332</td>\n",
       "            <td>Crime and Mystery</td>\n",
       "        </tr>\n",
       "        <tr>\n",
       "            <td>12</td>\n",
       "            <td>12</td>\n",
       "            <td>Getting Started with Computers</td>\n",
       "            <td>2025-02-18</td>\n",
       "            <td>4310</td>\n",
       "            <td>Computers and Technology</td>\n",
       "        </tr>\n",
       "        <tr>\n",
       "            <td>13</td>\n",
       "            <td>6</td>\n",
       "            <td>Employment Services</td>\n",
       "            <td>2025-03-19</td>\n",
       "            <td>4311</td>\n",
       "            <td>Newcomers</td>\n",
       "        </tr>\n",
       "    </tbody>\n",
       "</table>"
      ],
      "text/plain": [
       "+----------+-----------+--------------------------------+------------+---------+---------------------------+\n",
       "| event_id | organizer |           eventName            |    date    | roomNum |          audience         |\n",
       "+----------+-----------+--------------------------------+------------+---------+---------------------------+\n",
       "|    1     |     2     |           Book Club            | 2025-12-19 |   4332  |        Young Adults       |\n",
       "|    2     |     1     |           Book Club            | 2025-10-12 |   4332  |       Adult Fiction       |\n",
       "|    3     |     7     |           Book Club            | 2025-4-12  |   3121  |     Crime and Mystery     |\n",
       "|    4     |     11    |   Games for English Learners   | 2025-4-10  |   3120  | Beginner English Speakers |\n",
       "|    5     |     11    |   Games for English Learners   | 2025-5-10  |   3120  | Beginner English Speakers |\n",
       "|    6     |     12    | Getting Started with Computers | 2025-5-15  |   4310  |  Computers and Technology |\n",
       "|    7     |     6     |      Employment Services       | 2025-6-18  |   4311  |         Newcomers         |\n",
       "|    8     |     4     |      Employment Services       | 2025-6-28  |   4311  |         Newcomers         |\n",
       "|    9     |     8     |      CanFilmDay Screening      |  2025-9-6  |   3300  |        Film and TV        |\n",
       "|    10    |     2     |           Book Club            | 2025-01-15 |   4330  |       Adult Fiction       |\n",
       "|    11    |     7     |           Book Club            | 2025-02-16 |   4332  |     Crime and Mystery     |\n",
       "|    12    |     12    | Getting Started with Computers | 2025-02-18 |   4310  |  Computers and Technology |\n",
       "|    13    |     6     |      Employment Services       | 2025-03-19 |   4311  |         Newcomers         |\n",
       "+----------+-----------+--------------------------------+------------+---------+---------------------------+"
      ]
     },
     "execution_count": 62,
     "metadata": {},
     "output_type": "execute_result"
    }
   ],
   "source": [
    "%%sql\n",
    "SELECT * FROM Events;"
   ]
  },
  {
   "cell_type": "code",
   "execution_count": 58,
   "id": "da8a9f63-7e6b-47d1-856d-dad50b785ba3",
   "metadata": {},
   "outputs": [
    {
     "data": {
      "text/html": [
       "<span style=\"None\">Running query in &#x27;sqlite:///library_final.db&#x27;</span>"
      ],
      "text/plain": [
       "Running query in 'sqlite:///library_final.db'"
      ]
     },
     "metadata": {},
     "output_type": "display_data"
    },
    {
     "data": {
      "text/html": [
       "<span style=\"color: green\">1 rows affected.</span>"
      ],
      "text/plain": [
       "1 rows affected."
      ]
     },
     "metadata": {},
     "output_type": "display_data"
    },
    {
     "data": {
      "text/html": [
       "<span style=\"color: green\">1 rows affected.</span>"
      ],
      "text/plain": [
       "1 rows affected."
      ]
     },
     "metadata": {},
     "output_type": "display_data"
    },
    {
     "data": {
      "text/html": [
       "<span style=\"color: green\">1 rows affected.</span>"
      ],
      "text/plain": [
       "1 rows affected."
      ]
     },
     "metadata": {},
     "output_type": "display_data"
    },
    {
     "data": {
      "text/html": [
       "<span style=\"color: green\">1 rows affected.</span>"
      ],
      "text/plain": [
       "1 rows affected."
      ]
     },
     "metadata": {},
     "output_type": "display_data"
    },
    {
     "data": {
      "text/html": [
       "<span style=\"color: green\">1 rows affected.</span>"
      ],
      "text/plain": [
       "1 rows affected."
      ]
     },
     "metadata": {},
     "output_type": "display_data"
    },
    {
     "data": {
      "text/html": [
       "<span style=\"color: green\">1 rows affected.</span>"
      ],
      "text/plain": [
       "1 rows affected."
      ]
     },
     "metadata": {},
     "output_type": "display_data"
    },
    {
     "data": {
      "text/html": [
       "<span style=\"color: green\">1 rows affected.</span>"
      ],
      "text/plain": [
       "1 rows affected."
      ]
     },
     "metadata": {},
     "output_type": "display_data"
    },
    {
     "data": {
      "text/html": [
       "<span style=\"color: green\">1 rows affected.</span>"
      ],
      "text/plain": [
       "1 rows affected."
      ]
     },
     "metadata": {},
     "output_type": "display_data"
    },
    {
     "data": {
      "text/html": [
       "<span style=\"color: green\">1 rows affected.</span>"
      ],
      "text/plain": [
       "1 rows affected."
      ]
     },
     "metadata": {},
     "output_type": "display_data"
    },
    {
     "data": {
      "text/html": [
       "<table>\n",
       "    <thead>\n",
       "        <tr>\n",
       "        </tr>\n",
       "    </thead>\n",
       "    <tbody>\n",
       "    </tbody>\n",
       "</table>"
      ],
      "text/plain": [
       "++\n",
       "||\n",
       "++\n",
       "++"
      ]
     },
     "execution_count": 58,
     "metadata": {},
     "output_type": "execute_result"
    }
   ],
   "source": [
    "%%sql\n",
    "INSERT INTO Events VALUES (1, 2, \"Book Club\", \"2025-12-19\", 4332, \"Young Adults\");\n",
    "INSERT INTO Events VALUES (2, 1, \"Book Club\", \"2025-10-12\", 4332, \"Adult Fiction\");\n",
    "INSERT INTO Events VALUES (3, 7, \"Book Club\", \"2025-4-12\", 3121, \"Crime and Mystery\");\n",
    "INSERT INTO Events VALUES (4, 11, \"Games for English Learners\", \"2025-4-10\", 3120, \"Beginner English Speakers\");\n",
    "INSERT INTO Events VALUES (5, 11, \"Games for English Learners\", \"2025-5-10\", 3120, \"Beginner English Speakers\");\n",
    "INSERT INTO Events VALUES (6, 12, \"Getting Started with Computers\", \"2025-5-15\", 4310, \"Computers and Technology\");\n",
    "INSERT INTO Events VALUES (7, 6, \"Employment Services\", \"2025-6-18\", 4311, \"Newcomers\");\n",
    "INSERT INTO Events VALUES (8, 4, \"Employment Services\", \"2025-6-28\", 4311, \"Newcomers\");\n",
    "INSERT INTO Events VALUES (9, 8, \"CanFilmDay Screening\", \"2025-9-6\", 3300, \"Film and TV\");"
   ]
  },
  {
   "cell_type": "markdown",
   "id": "96a86855-8362-4722-a4a9-fc9632258425",
   "metadata": {},
   "source": [
    "### Past Events"
   ]
  },
  {
   "cell_type": "code",
   "execution_count": 60,
   "id": "f1337c06-e269-4581-8f80-efb78d524ad8",
   "metadata": {},
   "outputs": [
    {
     "data": {
      "text/html": [
       "<span style=\"None\">Running query in &#x27;sqlite:///library_final.db&#x27;</span>"
      ],
      "text/plain": [
       "Running query in 'sqlite:///library_final.db'"
      ]
     },
     "metadata": {},
     "output_type": "display_data"
    },
    {
     "data": {
      "text/html": [
       "<span style=\"color: green\">4 rows affected.</span>"
      ],
      "text/plain": [
       "4 rows affected."
      ]
     },
     "metadata": {},
     "output_type": "display_data"
    },
    {
     "data": {
      "text/html": [
       "<table>\n",
       "    <thead>\n",
       "        <tr>\n",
       "        </tr>\n",
       "    </thead>\n",
       "    <tbody>\n",
       "    </tbody>\n",
       "</table>"
      ],
      "text/plain": [
       "++\n",
       "||\n",
       "++\n",
       "++"
      ]
     },
     "execution_count": 60,
     "metadata": {},
     "output_type": "execute_result"
    }
   ],
   "source": [
    "%%sql\n",
    "INSERT INTO Events (event_id, organizer, eventName, date, roomNum, audience)\n",
    "VALUES\n",
    "(10, 2, \"Book Club\", \"2025-01-15\", 4330, \"Adult Fiction\"),\n",
    "(11, 7, \"Book Club\", \"2025-02-16\", 4332, \"Crime and Mystery\"),\n",
    "(12, 12, \"Getting Started with Computers\", \"2025-02-18\", 4310, \"Computers and Technology\"),\n",
    "(13, 6, \"Employment Services\", \"2025-03-19\", 4311, \"Newcomers\");"
   ]
  },
  {
   "cell_type": "code",
   "execution_count": 64,
   "id": "15510e3f-ed1a-4d96-a482-b45b5ca3f0a3",
   "metadata": {},
   "outputs": [
    {
     "data": {
      "text/html": [
       "<span style=\"None\">Running query in &#x27;sqlite:///library_final.db&#x27;</span>"
      ],
      "text/plain": [
       "Running query in 'sqlite:///library_final.db'"
      ]
     },
     "metadata": {},
     "output_type": "display_data"
    },
    {
     "data": {
      "text/html": [
       "<span style=\"color: green\">12 rows affected.</span>"
      ],
      "text/plain": [
       "12 rows affected."
      ]
     },
     "metadata": {},
     "output_type": "display_data"
    },
    {
     "data": {
      "text/html": [
       "<table>\n",
       "    <thead>\n",
       "        <tr>\n",
       "        </tr>\n",
       "    </thead>\n",
       "    <tbody>\n",
       "    </tbody>\n",
       "</table>"
      ],
      "text/plain": [
       "++\n",
       "||\n",
       "++\n",
       "++"
      ]
     },
     "execution_count": 64,
     "metadata": {},
     "output_type": "execute_result"
    }
   ],
   "source": [
    "%%sql\n",
    "INSERT INTO EventRegistrations (registration_id, event_id, patron_id, registration_date)\n",
    "VALUES\n",
    "(1, 10, 9, \"2025-01-10\"), \n",
    "(2, 11, 9, \"2025-02-10\"),\n",
    "(3, 12, 9, \"2025-02-11\"),\n",
    "(4, 12, 15, \"2025-02-10\"),\n",
    "(5, 11, 15, \"2025-02-11\"),\n",
    "(6, 13, 15, \"2025-03-12\"),\n",
    "(7, 10, 15, \"2025-01-09\"),\n",
    "(8, 10, 19, \"2025-01-09\"),\n",
    "(9, 11, 19, \"2025-02-11\"),\n",
    "(10, 13, 19, \"2025-02-12\"),\n",
    "(11, 13, 17, \"2025-02-12\"),\n",
    "(12, 10, 17, \"2025-01-05\");"
   ]
  },
  {
   "cell_type": "code",
   "execution_count": 66,
   "id": "d6618e3f-f6d0-4dc0-9aea-d864de66adad",
   "metadata": {},
   "outputs": [
    {
     "data": {
      "text/html": [
       "<span style=\"None\">Running query in &#x27;sqlite:///library_final.db&#x27;</span>"
      ],
      "text/plain": [
       "Running query in 'sqlite:///library_final.db'"
      ]
     },
     "metadata": {},
     "output_type": "display_data"
    },
    {
     "data": {
      "text/html": [
       "<table>\n",
       "    <thead>\n",
       "        <tr>\n",
       "            <th>registration_id</th>\n",
       "            <th>event_id</th>\n",
       "            <th>patron_id</th>\n",
       "            <th>registration_date</th>\n",
       "        </tr>\n",
       "    </thead>\n",
       "    <tbody>\n",
       "        <tr>\n",
       "            <td>1</td>\n",
       "            <td>10</td>\n",
       "            <td>9</td>\n",
       "            <td>2025-01-10</td>\n",
       "        </tr>\n",
       "        <tr>\n",
       "            <td>2</td>\n",
       "            <td>11</td>\n",
       "            <td>9</td>\n",
       "            <td>2025-02-10</td>\n",
       "        </tr>\n",
       "        <tr>\n",
       "            <td>3</td>\n",
       "            <td>12</td>\n",
       "            <td>9</td>\n",
       "            <td>2025-02-11</td>\n",
       "        </tr>\n",
       "        <tr>\n",
       "            <td>4</td>\n",
       "            <td>12</td>\n",
       "            <td>15</td>\n",
       "            <td>2025-02-10</td>\n",
       "        </tr>\n",
       "        <tr>\n",
       "            <td>5</td>\n",
       "            <td>11</td>\n",
       "            <td>15</td>\n",
       "            <td>2025-02-11</td>\n",
       "        </tr>\n",
       "        <tr>\n",
       "            <td>6</td>\n",
       "            <td>13</td>\n",
       "            <td>15</td>\n",
       "            <td>2025-03-12</td>\n",
       "        </tr>\n",
       "        <tr>\n",
       "            <td>7</td>\n",
       "            <td>10</td>\n",
       "            <td>15</td>\n",
       "            <td>2025-01-09</td>\n",
       "        </tr>\n",
       "        <tr>\n",
       "            <td>8</td>\n",
       "            <td>10</td>\n",
       "            <td>19</td>\n",
       "            <td>2025-01-09</td>\n",
       "        </tr>\n",
       "        <tr>\n",
       "            <td>9</td>\n",
       "            <td>11</td>\n",
       "            <td>19</td>\n",
       "            <td>2025-02-11</td>\n",
       "        </tr>\n",
       "        <tr>\n",
       "            <td>10</td>\n",
       "            <td>13</td>\n",
       "            <td>19</td>\n",
       "            <td>2025-02-12</td>\n",
       "        </tr>\n",
       "        <tr>\n",
       "            <td>11</td>\n",
       "            <td>13</td>\n",
       "            <td>17</td>\n",
       "            <td>2025-02-12</td>\n",
       "        </tr>\n",
       "        <tr>\n",
       "            <td>12</td>\n",
       "            <td>10</td>\n",
       "            <td>17</td>\n",
       "            <td>2025-01-05</td>\n",
       "        </tr>\n",
       "    </tbody>\n",
       "</table>"
      ],
      "text/plain": [
       "+-----------------+----------+-----------+-------------------+\n",
       "| registration_id | event_id | patron_id | registration_date |\n",
       "+-----------------+----------+-----------+-------------------+\n",
       "|        1        |    10    |     9     |     2025-01-10    |\n",
       "|        2        |    11    |     9     |     2025-02-10    |\n",
       "|        3        |    12    |     9     |     2025-02-11    |\n",
       "|        4        |    12    |     15    |     2025-02-10    |\n",
       "|        5        |    11    |     15    |     2025-02-11    |\n",
       "|        6        |    13    |     15    |     2025-03-12    |\n",
       "|        7        |    10    |     15    |     2025-01-09    |\n",
       "|        8        |    10    |     19    |     2025-01-09    |\n",
       "|        9        |    11    |     19    |     2025-02-11    |\n",
       "|        10       |    13    |     19    |     2025-02-12    |\n",
       "|        11       |    13    |     17    |     2025-02-12    |\n",
       "|        12       |    10    |     17    |     2025-01-05    |\n",
       "+-----------------+----------+-----------+-------------------+"
      ]
     },
     "execution_count": 66,
     "metadata": {},
     "output_type": "execute_result"
    }
   ],
   "source": [
    "%%sql \n",
    "SELECT * FROM EventRegistrations;"
   ]
  },
  {
   "cell_type": "code",
   "execution_count": null,
   "id": "5b146934-05eb-4de2-a883-3a93e37b402e",
   "metadata": {},
   "outputs": [],
   "source": []
  },
  {
   "cell_type": "markdown",
   "id": "27a55f84-b639-43f6-8a00-78da2fa81140",
   "metadata": {},
   "source": [
    "## Items Table"
   ]
  },
  {
   "cell_type": "code",
   "execution_count": 68,
   "id": "35fe9571-35b5-4b68-8955-dbce2fea8df8",
   "metadata": {},
   "outputs": [
    {
     "data": {
      "text/html": [
       "<span style=\"None\">Running query in &#x27;sqlite:///library_final.db&#x27;</span>"
      ],
      "text/plain": [
       "Running query in 'sqlite:///library_final.db'"
      ]
     },
     "metadata": {},
     "output_type": "display_data"
    },
    {
     "data": {
      "text/html": [
       "<span style=\"color: green\">3 rows affected.</span>"
      ],
      "text/plain": [
       "3 rows affected."
      ]
     },
     "metadata": {},
     "output_type": "display_data"
    },
    {
     "data": {
      "text/html": [
       "<table>\n",
       "    <thead>\n",
       "        <tr>\n",
       "        </tr>\n",
       "    </thead>\n",
       "    <tbody>\n",
       "    </tbody>\n",
       "</table>"
      ],
      "text/plain": [
       "++\n",
       "||\n",
       "++\n",
       "++"
      ]
     },
     "execution_count": 68,
     "metadata": {},
     "output_type": "execute_result"
    }
   ],
   "source": [
    "%%sql\n",
    "INSERT INTO Items (item_id, title, type, creator, replacement_cost, status)\n",
    "VALUES \n",
    "(1, 'Journal of Computer Science', 'Journal', 'ACM Publishing', 85.99, 'available'),\n",
    "(2, 'Nature', 'Journal', 'Springer Nature', 75.50, 'available'),\n",
    "(3, 'The Lancet', 'Journal', 'Elsevier', 120.00, 'available');"
   ]
  },
  {
   "cell_type": "code",
   "execution_count": 70,
   "id": "df31d0ee-67d4-467a-a372-bfb8fa243d39",
   "metadata": {},
   "outputs": [
    {
     "data": {
      "text/html": [
       "<span style=\"None\">Running query in &#x27;sqlite:///library_final.db&#x27;</span>"
      ],
      "text/plain": [
       "Running query in 'sqlite:///library_final.db'"
      ]
     },
     "metadata": {},
     "output_type": "display_data"
    },
    {
     "data": {
      "text/html": [
       "<span style=\"color: green\">3 rows affected.</span>"
      ],
      "text/plain": [
       "3 rows affected."
      ]
     },
     "metadata": {},
     "output_type": "display_data"
    },
    {
     "data": {
      "text/html": [
       "<table>\n",
       "    <thead>\n",
       "        <tr>\n",
       "        </tr>\n",
       "    </thead>\n",
       "    <tbody>\n",
       "    </tbody>\n",
       "</table>"
      ],
      "text/plain": [
       "++\n",
       "||\n",
       "++\n",
       "++"
      ]
     },
     "execution_count": 70,
     "metadata": {},
     "output_type": "execute_result"
    }
   ],
   "source": [
    "%%sql\n",
    "INSERT INTO Items (item_id, title, type, creator, replacement_cost, status)\n",
    "VALUES \n",
    "(4, 'National Geographic', 'Magazine', 'National Geographic Society', 15.99, 'available'),\n",
    "(5, 'The New Yorker', 'Magazine', 'Condé Nast', 12.50, 'available'),\n",
    "(6, 'People', 'Magazine', 'Meredith', 10.95, 'available');"
   ]
  },
  {
   "cell_type": "code",
   "execution_count": 72,
   "id": "df143285-7207-4afa-9dad-940dcbb8f404",
   "metadata": {},
   "outputs": [
    {
     "data": {
      "text/html": [
       "<span style=\"None\">Running query in &#x27;sqlite:///library_final.db&#x27;</span>"
      ],
      "text/plain": [
       "Running query in 'sqlite:///library_final.db'"
      ]
     },
     "metadata": {},
     "output_type": "display_data"
    },
    {
     "data": {
      "text/html": [
       "<span style=\"color: green\">3 rows affected.</span>"
      ],
      "text/plain": [
       "3 rows affected."
      ]
     },
     "metadata": {},
     "output_type": "display_data"
    },
    {
     "data": {
      "text/html": [
       "<table>\n",
       "    <thead>\n",
       "        <tr>\n",
       "        </tr>\n",
       "    </thead>\n",
       "    <tbody>\n",
       "    </tbody>\n",
       "</table>"
      ],
      "text/plain": [
       "++\n",
       "||\n",
       "++\n",
       "++"
      ]
     },
     "execution_count": 72,
     "metadata": {},
     "output_type": "execute_result"
    }
   ],
   "source": [
    "%%sql\n",
    "INSERT INTO Items (item_id, title, type, creator, replacement_cost, status)\n",
    "VALUES \n",
    "(7, 'Thriller', 'Vinyl', 'Michael Jackson', 65.00, 'available'),\n",
    "(8, 'The Dark Side of the Moon', 'Vinyl', 'Pink Floyd', 89.99, 'available'),\n",
    "(9, 'Abbey Road', 'Vinyl', 'The Beatles', 120.00, 'checked_out');"
   ]
  },
  {
   "cell_type": "code",
   "execution_count": 74,
   "id": "b499b2ac-fa18-43f3-9b7f-6ef0aa36ab60",
   "metadata": {},
   "outputs": [
    {
     "data": {
      "text/html": [
       "<span style=\"None\">Running query in &#x27;sqlite:///library_final.db&#x27;</span>"
      ],
      "text/plain": [
       "Running query in 'sqlite:///library_final.db'"
      ]
     },
     "metadata": {},
     "output_type": "display_data"
    },
    {
     "data": {
      "text/html": [
       "<span style=\"color: green\">1 rows affected.</span>"
      ],
      "text/plain": [
       "1 rows affected."
      ]
     },
     "metadata": {},
     "output_type": "display_data"
    },
    {
     "data": {
      "text/html": [
       "<span style=\"color: green\">1 rows affected.</span>"
      ],
      "text/plain": [
       "1 rows affected."
      ]
     },
     "metadata": {},
     "output_type": "display_data"
    },
    {
     "data": {
      "text/html": [
       "<span style=\"color: green\">1 rows affected.</span>"
      ],
      "text/plain": [
       "1 rows affected."
      ]
     },
     "metadata": {},
     "output_type": "display_data"
    },
    {
     "data": {
      "text/html": [
       "<span style=\"color: green\">1 rows affected.</span>"
      ],
      "text/plain": [
       "1 rows affected."
      ]
     },
     "metadata": {},
     "output_type": "display_data"
    },
    {
     "data": {
      "text/html": [
       "<table>\n",
       "    <thead>\n",
       "        <tr>\n",
       "        </tr>\n",
       "    </thead>\n",
       "    <tbody>\n",
       "    </tbody>\n",
       "</table>"
      ],
      "text/plain": [
       "++\n",
       "||\n",
       "++\n",
       "++"
      ]
     },
     "execution_count": 74,
     "metadata": {},
     "output_type": "execute_result"
    }
   ],
   "source": [
    "%%sql\n",
    "INSERT INTO Items VALUES (10, \"To Kill a Mockingbird\", \"Physical Book\", \"Harper Lee\", 50, \"available\");\n",
    "INSERT INTO Items VALUES (11, \"1984\", \"Physical Book\", \"George Orwell\", 30, \"available\");\n",
    "INSERT INTO Items VALUES (12, \"Clean Code: A Handbook of Agile Software Craftsmanship\", \"Online Book\", \"Robert C. Martin\", 220, \"available\");\n",
    "INSERT INTO Items VALUES (13, \"Handmaid's Tale\", \"Physical Book\", \"Margaret Atwood\", 30, \"available\");"
   ]
  },
  {
   "cell_type": "code",
   "execution_count": 80,
   "id": "88b17747-92bf-430a-9509-072b82b72c90",
   "metadata": {},
   "outputs": [
    {
     "data": {
      "text/html": [
       "<span style=\"None\">Running query in &#x27;sqlite:///library_final.db&#x27;</span>"
      ],
      "text/plain": [
       "Running query in 'sqlite:///library_final.db'"
      ]
     },
     "metadata": {},
     "output_type": "display_data"
    },
    {
     "data": {
      "text/html": [
       "<table>\n",
       "    <thead>\n",
       "        <tr>\n",
       "            <th>item_id</th>\n",
       "            <th>title</th>\n",
       "            <th>type</th>\n",
       "            <th>creator</th>\n",
       "            <th>replacement_cost</th>\n",
       "            <th>status</th>\n",
       "        </tr>\n",
       "    </thead>\n",
       "    <tbody>\n",
       "        <tr>\n",
       "            <td>1</td>\n",
       "            <td>Journal of Computer Science</td>\n",
       "            <td>Journal</td>\n",
       "            <td>ACM Publishing</td>\n",
       "            <td>85.99</td>\n",
       "            <td>available</td>\n",
       "        </tr>\n",
       "        <tr>\n",
       "            <td>2</td>\n",
       "            <td>Nature</td>\n",
       "            <td>Journal</td>\n",
       "            <td>Springer Nature</td>\n",
       "            <td>75.5</td>\n",
       "            <td>available</td>\n",
       "        </tr>\n",
       "        <tr>\n",
       "            <td>3</td>\n",
       "            <td>The Lancet</td>\n",
       "            <td>Journal</td>\n",
       "            <td>Elsevier</td>\n",
       "            <td>120.0</td>\n",
       "            <td>available</td>\n",
       "        </tr>\n",
       "        <tr>\n",
       "            <td>4</td>\n",
       "            <td>National Geographic</td>\n",
       "            <td>Magazine</td>\n",
       "            <td>National Geographic Society</td>\n",
       "            <td>15.99</td>\n",
       "            <td>available</td>\n",
       "        </tr>\n",
       "        <tr>\n",
       "            <td>5</td>\n",
       "            <td>The New Yorker</td>\n",
       "            <td>Magazine</td>\n",
       "            <td>Condé Nast</td>\n",
       "            <td>12.5</td>\n",
       "            <td>available</td>\n",
       "        </tr>\n",
       "        <tr>\n",
       "            <td>6</td>\n",
       "            <td>People</td>\n",
       "            <td>Magazine</td>\n",
       "            <td>Meredith</td>\n",
       "            <td>10.95</td>\n",
       "            <td>available</td>\n",
       "        </tr>\n",
       "        <tr>\n",
       "            <td>7</td>\n",
       "            <td>Thriller</td>\n",
       "            <td>Vinyl</td>\n",
       "            <td>Michael Jackson</td>\n",
       "            <td>65.0</td>\n",
       "            <td>available</td>\n",
       "        </tr>\n",
       "        <tr>\n",
       "            <td>8</td>\n",
       "            <td>The Dark Side of the Moon</td>\n",
       "            <td>Vinyl</td>\n",
       "            <td>Pink Floyd</td>\n",
       "            <td>89.99</td>\n",
       "            <td>available</td>\n",
       "        </tr>\n",
       "        <tr>\n",
       "            <td>9</td>\n",
       "            <td>Abbey Road</td>\n",
       "            <td>Vinyl</td>\n",
       "            <td>The Beatles</td>\n",
       "            <td>120.0</td>\n",
       "            <td>checked_out</td>\n",
       "        </tr>\n",
       "        <tr>\n",
       "            <td>10</td>\n",
       "            <td>To Kill a Mockingbird</td>\n",
       "            <td>Physical Book</td>\n",
       "            <td>Harper Lee</td>\n",
       "            <td>50.0</td>\n",
       "            <td>available</td>\n",
       "        </tr>\n",
       "        <tr>\n",
       "            <td>11</td>\n",
       "            <td>1984</td>\n",
       "            <td>Physical Book</td>\n",
       "            <td>George Orwell</td>\n",
       "            <td>30.0</td>\n",
       "            <td>available</td>\n",
       "        </tr>\n",
       "        <tr>\n",
       "            <td>12</td>\n",
       "            <td>Clean Code: A Handbook of Agile Software Craftsmanship</td>\n",
       "            <td>Online Book</td>\n",
       "            <td>Robert C. Martin</td>\n",
       "            <td>220.0</td>\n",
       "            <td>available</td>\n",
       "        </tr>\n",
       "        <tr>\n",
       "            <td>13</td>\n",
       "            <td>Handmaid's Tale</td>\n",
       "            <td>Physical Book</td>\n",
       "            <td>Margaret Atwood</td>\n",
       "            <td>30.0</td>\n",
       "            <td>available</td>\n",
       "        </tr>\n",
       "        <tr>\n",
       "            <td>14</td>\n",
       "            <td>The Great Gatsby</td>\n",
       "            <td>Physical Book</td>\n",
       "            <td>F. Scott Fitzgerald</td>\n",
       "            <td>15.99</td>\n",
       "            <td>checked_out</td>\n",
       "        </tr>\n",
       "        <tr>\n",
       "            <td>15</td>\n",
       "            <td>The Godfather</td>\n",
       "            <td>DVD</td>\n",
       "            <td>Francis Ford Coppola</td>\n",
       "            <td>24.99</td>\n",
       "            <td>checked_out</td>\n",
       "        </tr>\n",
       "        <tr>\n",
       "            <td>16</td>\n",
       "            <td>Crowded House</td>\n",
       "            <td>Vinyl</td>\n",
       "            <td>Crowded House</td>\n",
       "            <td>89.99</td>\n",
       "            <td>checked_out</td>\n",
       "        </tr>\n",
       "        <tr>\n",
       "            <td>17</td>\n",
       "            <td>Scientific American</td>\n",
       "            <td>Magazine</td>\n",
       "            <td>Scientific American Inc.</td>\n",
       "            <td>8.99</td>\n",
       "            <td>checked_out</td>\n",
       "        </tr>\n",
       "        <tr>\n",
       "            <td>18</td>\n",
       "            <td>Principles of Neural Science</td>\n",
       "            <td>Physical Book</td>\n",
       "            <td>Eric Kandel</td>\n",
       "            <td>120.0</td>\n",
       "            <td>checked_out</td>\n",
       "        </tr>\n",
       "        <tr>\n",
       "            <td>19</td>\n",
       "            <td>Dead Souls</td>\n",
       "            <td>Physical Book</td>\n",
       "            <td>Nikolai Gogol</td>\n",
       "            <td>45.99</td>\n",
       "            <td>checked_out</td>\n",
       "        </tr>\n",
       "        <tr>\n",
       "            <td>20</td>\n",
       "            <td>The Book Thief</td>\n",
       "            <td>Physical Book</td>\n",
       "            <td>Markus Zusak</td>\n",
       "            <td>24.0</td>\n",
       "            <td>checked_out</td>\n",
       "        </tr>\n",
       "        <tr>\n",
       "            <td>21</td>\n",
       "            <td>AM</td>\n",
       "            <td>Vinyl</td>\n",
       "            <td>Arctic Monkeys</td>\n",
       "            <td>85.0</td>\n",
       "            <td>checked_out</td>\n",
       "        </tr>\n",
       "    </tbody>\n",
       "</table>"
      ],
      "text/plain": [
       "+---------+--------------------------------------------------------+---------------+-----------------------------+------------------+-------------+\n",
       "| item_id |                         title                          |      type     |           creator           | replacement_cost |    status   |\n",
       "+---------+--------------------------------------------------------+---------------+-----------------------------+------------------+-------------+\n",
       "|    1    |              Journal of Computer Science               |    Journal    |        ACM Publishing       |      85.99       |  available  |\n",
       "|    2    |                         Nature                         |    Journal    |       Springer Nature       |       75.5       |  available  |\n",
       "|    3    |                       The Lancet                       |    Journal    |           Elsevier          |      120.0       |  available  |\n",
       "|    4    |                  National Geographic                   |    Magazine   | National Geographic Society |      15.99       |  available  |\n",
       "|    5    |                     The New Yorker                     |    Magazine   |          Condé Nast         |       12.5       |  available  |\n",
       "|    6    |                         People                         |    Magazine   |           Meredith          |      10.95       |  available  |\n",
       "|    7    |                        Thriller                        |     Vinyl     |       Michael Jackson       |       65.0       |  available  |\n",
       "|    8    |               The Dark Side of the Moon                |     Vinyl     |          Pink Floyd         |      89.99       |  available  |\n",
       "|    9    |                       Abbey Road                       |     Vinyl     |         The Beatles         |      120.0       | checked_out |\n",
       "|    10   |                 To Kill a Mockingbird                  | Physical Book |          Harper Lee         |       50.0       |  available  |\n",
       "|    11   |                          1984                          | Physical Book |        George Orwell        |       30.0       |  available  |\n",
       "|    12   | Clean Code: A Handbook of Agile Software Craftsmanship |  Online Book  |       Robert C. Martin      |      220.0       |  available  |\n",
       "|    13   |                    Handmaid's Tale                     | Physical Book |       Margaret Atwood       |       30.0       |  available  |\n",
       "|    14   |                    The Great Gatsby                    | Physical Book |     F. Scott Fitzgerald     |      15.99       | checked_out |\n",
       "|    15   |                     The Godfather                      |      DVD      |     Francis Ford Coppola    |      24.99       | checked_out |\n",
       "|    16   |                     Crowded House                      |     Vinyl     |        Crowded House        |      89.99       | checked_out |\n",
       "|    17   |                  Scientific American                   |    Magazine   |   Scientific American Inc.  |       8.99       | checked_out |\n",
       "|    18   |              Principles of Neural Science              | Physical Book |         Eric Kandel         |      120.0       | checked_out |\n",
       "|    19   |                       Dead Souls                       | Physical Book |        Nikolai Gogol        |      45.99       | checked_out |\n",
       "|    20   |                     The Book Thief                     | Physical Book |         Markus Zusak        |       24.0       | checked_out |\n",
       "|    21   |                           AM                           |     Vinyl     |        Arctic Monkeys       |       85.0       | checked_out |\n",
       "+---------+--------------------------------------------------------+---------------+-----------------------------+------------------+-------------+"
      ]
     },
     "execution_count": 80,
     "metadata": {},
     "output_type": "execute_result"
    }
   ],
   "source": [
    "%%sql\n",
    "SELECT * FROM Items;"
   ]
  },
  {
   "cell_type": "code",
   "execution_count": 76,
   "id": "ee9753a0-9edb-4f69-8e78-68b1aa88cd7d",
   "metadata": {},
   "outputs": [
    {
     "data": {
      "text/html": [
       "<span style=\"None\">Running query in &#x27;sqlite:///library_final.db&#x27;</span>"
      ],
      "text/plain": [
       "Running query in 'sqlite:///library_final.db'"
      ]
     },
     "metadata": {},
     "output_type": "display_data"
    },
    {
     "data": {
      "text/html": [
       "<span style=\"color: green\">3 rows affected.</span>"
      ],
      "text/plain": [
       "3 rows affected."
      ]
     },
     "metadata": {},
     "output_type": "display_data"
    },
    {
     "data": {
      "text/html": [
       "<table>\n",
       "    <thead>\n",
       "        <tr>\n",
       "        </tr>\n",
       "    </thead>\n",
       "    <tbody>\n",
       "    </tbody>\n",
       "</table>"
      ],
      "text/plain": [
       "++\n",
       "||\n",
       "++\n",
       "++"
      ]
     },
     "execution_count": 76,
     "metadata": {},
     "output_type": "execute_result"
    }
   ],
   "source": [
    "%%sql\n",
    "INSERT INTO Items (item_id, title, type, creator, replacement_cost, status)\n",
    "VALUES\n",
    "(19, 'Dead Souls', 'Physical Book', 'Nikolai Gogol', 45.99, 'checked_out'),\n",
    "(20, 'The Book Thief', 'Physical Book', 'Markus Zusak', 24.00, 'checked_out'),\n",
    "(21, 'AM', 'Vinyl' ,'Arctic Monkeys', 85.00, 'checked_out');"
   ]
  },
  {
   "cell_type": "code",
   "execution_count": 78,
   "id": "5bb6a871-34b1-482b-b678-7395b7f93ca8",
   "metadata": {},
   "outputs": [
    {
     "data": {
      "text/html": [
       "<span style=\"None\">Running query in &#x27;sqlite:///library_final.db&#x27;</span>"
      ],
      "text/plain": [
       "Running query in 'sqlite:///library_final.db'"
      ]
     },
     "metadata": {},
     "output_type": "display_data"
    },
    {
     "data": {
      "text/html": [
       "<span style=\"color: green\">5 rows affected.</span>"
      ],
      "text/plain": [
       "5 rows affected."
      ]
     },
     "metadata": {},
     "output_type": "display_data"
    },
    {
     "data": {
      "text/html": [
       "<table>\n",
       "    <thead>\n",
       "        <tr>\n",
       "        </tr>\n",
       "    </thead>\n",
       "    <tbody>\n",
       "    </tbody>\n",
       "</table>"
      ],
      "text/plain": [
       "++\n",
       "||\n",
       "++\n",
       "++"
      ]
     },
     "execution_count": 78,
     "metadata": {},
     "output_type": "execute_result"
    }
   ],
   "source": [
    "%%sql\n",
    "INSERT INTO Items (item_id, title, type, creator, replacement_cost, status)\n",
    "VALUES\n",
    "(14, 'The Great Gatsby', 'Physical Book', 'F. Scott Fitzgerald', 15.99, 'checked_out'),\n",
    "(15, 'The Godfather', 'DVD', 'Francis Ford Coppola', 24.99, 'checked_out'),\n",
    "(16, 'Crowded House', 'Vinyl', 'Crowded House', 89.99, 'checked_out'),\n",
    "(17, 'Scientific American', 'Magazine', 'Scientific American Inc.', 8.99, 'checked_out'),\n",
    "(18, 'Principles of Neural Science', 'Physical Book', 'Eric Kandel', 120.00, 'checked_out');"
   ]
  },
  {
   "cell_type": "code",
   "execution_count": null,
   "id": "a9e34778-b7fc-4a8e-8e13-2207995a6025",
   "metadata": {},
   "outputs": [],
   "source": []
  },
  {
   "cell_type": "markdown",
   "id": "4d945292-fabc-4262-8162-181f32234a8b",
   "metadata": {},
   "source": [
    "# BorrowingHistory"
   ]
  },
  {
   "cell_type": "code",
   "execution_count": 82,
   "id": "b884dc45-d2e2-4e84-9ac0-a21899371c61",
   "metadata": {},
   "outputs": [
    {
     "data": {
      "text/html": [
       "<span style=\"None\">Running query in &#x27;sqlite:///library_final.db&#x27;</span>"
      ],
      "text/plain": [
       "Running query in 'sqlite:///library_final.db'"
      ]
     },
     "metadata": {},
     "output_type": "display_data"
    },
    {
     "data": {
      "text/html": [
       "<span style=\"color: green\">5 rows affected.</span>"
      ],
      "text/plain": [
       "5 rows affected."
      ]
     },
     "metadata": {},
     "output_type": "display_data"
    },
    {
     "data": {
      "text/html": [
       "<table>\n",
       "    <thead>\n",
       "        <tr>\n",
       "        </tr>\n",
       "    </thead>\n",
       "    <tbody>\n",
       "    </tbody>\n",
       "</table>"
      ],
      "text/plain": [
       "++\n",
       "||\n",
       "++\n",
       "++"
      ]
     },
     "execution_count": 82,
     "metadata": {},
     "output_type": "execute_result"
    }
   ],
   "source": [
    "%%sql\n",
    "INSERT INTO BorrowingHistory (id, item_id, checkoutDate, returnDate) \n",
    "VALUES\n",
    "(7, 14, '2025-01-01', NULL),\n",
    "(11, 15, '2024-12-29', NULL),\n",
    "(12, 16, '2024-02-28', NULL),\n",
    "(4, 17, '2025-03-30', '2025-04-27'),\n",
    "(5, 18, '2025-03-13', '2025-04-10');"
   ]
  },
  {
   "cell_type": "code",
   "execution_count": 84,
   "id": "7ddac2ce-0cfc-4cde-853e-a0802548c9d9",
   "metadata": {},
   "outputs": [
    {
     "data": {
      "text/html": [
       "<span style=\"None\">Running query in &#x27;sqlite:///library_final.db&#x27;</span>"
      ],
      "text/plain": [
       "Running query in 'sqlite:///library_final.db'"
      ]
     },
     "metadata": {},
     "output_type": "display_data"
    },
    {
     "data": {
      "text/html": [
       "<span style=\"color: green\">3 rows affected.</span>"
      ],
      "text/plain": [
       "3 rows affected."
      ]
     },
     "metadata": {},
     "output_type": "display_data"
    },
    {
     "data": {
      "text/html": [
       "<table>\n",
       "    <thead>\n",
       "        <tr>\n",
       "        </tr>\n",
       "    </thead>\n",
       "    <tbody>\n",
       "    </tbody>\n",
       "</table>"
      ],
      "text/plain": [
       "++\n",
       "||\n",
       "++\n",
       "++"
      ]
     },
     "execution_count": 84,
     "metadata": {},
     "output_type": "execute_result"
    }
   ],
   "source": [
    "%%sql\n",
    "INSERT INTO BorrowingHistory (id, item_id, checkoutDate, returnDate) \n",
    "VALUES\n",
    "(20, 19, '2025-02-03', NULL),\n",
    "(21, 21, '2024-12-13', NULL),\n",
    "(17, 20, '2025-01-02', NULL);"
   ]
  },
  {
   "cell_type": "code",
   "execution_count": 86,
   "id": "5a9c47a3-bb6d-423c-b70c-d547f12ca382",
   "metadata": {},
   "outputs": [
    {
     "data": {
      "text/html": [
       "<span style=\"None\">Running query in &#x27;sqlite:///library_final.db&#x27;</span>"
      ],
      "text/plain": [
       "Running query in 'sqlite:///library_final.db'"
      ]
     },
     "metadata": {},
     "output_type": "display_data"
    },
    {
     "data": {
      "text/html": [
       "<span style=\"color: green\">1 rows affected.</span>"
      ],
      "text/plain": [
       "1 rows affected."
      ]
     },
     "metadata": {},
     "output_type": "display_data"
    },
    {
     "data": {
      "text/html": [
       "<table>\n",
       "    <thead>\n",
       "        <tr>\n",
       "        </tr>\n",
       "    </thead>\n",
       "    <tbody>\n",
       "    </tbody>\n",
       "</table>"
      ],
      "text/plain": [
       "++\n",
       "||\n",
       "++\n",
       "++"
      ]
     },
     "execution_count": 86,
     "metadata": {},
     "output_type": "execute_result"
    }
   ],
   "source": [
    "%%sql\n",
    "INSERT INTO BorrowingHistory (id, item_id, checkoutDate, returnDate) \n",
    "VALUES\n",
    "(2, 9, '2025-03-30', '2025-04-27'); "
   ]
  },
  {
   "cell_type": "markdown",
   "id": "41fdea51-ad39-4c87-a7f0-b4f81d347e38",
   "metadata": {},
   "source": [
    "## Testing non-Staff patron to have borrowed multiple items in the past"
   ]
  },
  {
   "cell_type": "code",
   "execution_count": 88,
   "id": "48a8d631-b6c9-4706-a79b-39cf4981226c",
   "metadata": {},
   "outputs": [
    {
     "data": {
      "text/html": [
       "<span style=\"None\">Running query in &#x27;sqlite:///library_final.db&#x27;</span>"
      ],
      "text/plain": [
       "Running query in 'sqlite:///library_final.db'"
      ]
     },
     "metadata": {},
     "output_type": "display_data"
    },
    {
     "data": {
      "text/html": [
       "<span style=\"color: green\">4 rows affected.</span>"
      ],
      "text/plain": [
       "4 rows affected."
      ]
     },
     "metadata": {},
     "output_type": "display_data"
    },
    {
     "data": {
      "text/html": [
       "<table>\n",
       "    <thead>\n",
       "        <tr>\n",
       "        </tr>\n",
       "    </thead>\n",
       "    <tbody>\n",
       "    </tbody>\n",
       "</table>"
      ],
      "text/plain": [
       "++\n",
       "||\n",
       "++\n",
       "++"
      ]
     },
     "execution_count": 88,
     "metadata": {},
     "output_type": "execute_result"
    }
   ],
   "source": [
    "%%sql\n",
    "INSERT INTO BorrowingHistory (id, item_id, checkoutDate, returnDate)\n",
    "VALUES\n",
    "(9, 2, '2025-02-02', '2025-02-14'),\n",
    "(9, 6, '2025-01-10', '2025-01-25'),\n",
    "(9, 8, '2024-12-22', '2025-01-09'),\n",
    "(2, 13, '2025-02-10', '2025-02-27');"
   ]
  },
  {
   "cell_type": "code",
   "execution_count": 90,
   "id": "d937bc16-f7f8-424d-bf08-b94df0d43fb8",
   "metadata": {},
   "outputs": [
    {
     "data": {
      "text/html": [
       "<span style=\"None\">Running query in &#x27;sqlite:///library_final.db&#x27;</span>"
      ],
      "text/plain": [
       "Running query in 'sqlite:///library_final.db'"
      ]
     },
     "metadata": {},
     "output_type": "display_data"
    },
    {
     "data": {
      "text/html": [
       "<table>\n",
       "    <thead>\n",
       "        <tr>\n",
       "            <th>id</th>\n",
       "            <th>item_id</th>\n",
       "            <th>checkoutDate</th>\n",
       "            <th>returnDate</th>\n",
       "        </tr>\n",
       "    </thead>\n",
       "    <tbody>\n",
       "        <tr>\n",
       "            <td>7</td>\n",
       "            <td>14</td>\n",
       "            <td>2025-01-01</td>\n",
       "            <td>None</td>\n",
       "        </tr>\n",
       "        <tr>\n",
       "            <td>11</td>\n",
       "            <td>15</td>\n",
       "            <td>2024-12-29</td>\n",
       "            <td>None</td>\n",
       "        </tr>\n",
       "        <tr>\n",
       "            <td>12</td>\n",
       "            <td>16</td>\n",
       "            <td>2024-02-28</td>\n",
       "            <td>None</td>\n",
       "        </tr>\n",
       "        <tr>\n",
       "            <td>4</td>\n",
       "            <td>17</td>\n",
       "            <td>2025-03-30</td>\n",
       "            <td>2025-04-27</td>\n",
       "        </tr>\n",
       "        <tr>\n",
       "            <td>5</td>\n",
       "            <td>18</td>\n",
       "            <td>2025-03-13</td>\n",
       "            <td>2025-04-10</td>\n",
       "        </tr>\n",
       "        <tr>\n",
       "            <td>20</td>\n",
       "            <td>19</td>\n",
       "            <td>2025-02-03</td>\n",
       "            <td>None</td>\n",
       "        </tr>\n",
       "        <tr>\n",
       "            <td>21</td>\n",
       "            <td>21</td>\n",
       "            <td>2024-12-13</td>\n",
       "            <td>None</td>\n",
       "        </tr>\n",
       "        <tr>\n",
       "            <td>17</td>\n",
       "            <td>20</td>\n",
       "            <td>2025-01-02</td>\n",
       "            <td>None</td>\n",
       "        </tr>\n",
       "        <tr>\n",
       "            <td>2</td>\n",
       "            <td>9</td>\n",
       "            <td>2025-03-30</td>\n",
       "            <td>2025-04-27</td>\n",
       "        </tr>\n",
       "        <tr>\n",
       "            <td>9</td>\n",
       "            <td>2</td>\n",
       "            <td>2025-02-02</td>\n",
       "            <td>2025-02-14</td>\n",
       "        </tr>\n",
       "        <tr>\n",
       "            <td>9</td>\n",
       "            <td>6</td>\n",
       "            <td>2025-01-10</td>\n",
       "            <td>2025-01-25</td>\n",
       "        </tr>\n",
       "        <tr>\n",
       "            <td>9</td>\n",
       "            <td>8</td>\n",
       "            <td>2024-12-22</td>\n",
       "            <td>2025-01-09</td>\n",
       "        </tr>\n",
       "        <tr>\n",
       "            <td>2</td>\n",
       "            <td>13</td>\n",
       "            <td>2025-02-10</td>\n",
       "            <td>2025-02-27</td>\n",
       "        </tr>\n",
       "    </tbody>\n",
       "</table>"
      ],
      "text/plain": [
       "+----+---------+--------------+------------+\n",
       "| id | item_id | checkoutDate | returnDate |\n",
       "+----+---------+--------------+------------+\n",
       "| 7  |    14   |  2025-01-01  |    None    |\n",
       "| 11 |    15   |  2024-12-29  |    None    |\n",
       "| 12 |    16   |  2024-02-28  |    None    |\n",
       "| 4  |    17   |  2025-03-30  | 2025-04-27 |\n",
       "| 5  |    18   |  2025-03-13  | 2025-04-10 |\n",
       "| 20 |    19   |  2025-02-03  |    None    |\n",
       "| 21 |    21   |  2024-12-13  |    None    |\n",
       "| 17 |    20   |  2025-01-02  |    None    |\n",
       "| 2  |    9    |  2025-03-30  | 2025-04-27 |\n",
       "| 9  |    2    |  2025-02-02  | 2025-02-14 |\n",
       "| 9  |    6    |  2025-01-10  | 2025-01-25 |\n",
       "| 9  |    8    |  2024-12-22  | 2025-01-09 |\n",
       "| 2  |    13   |  2025-02-10  | 2025-02-27 |\n",
       "+----+---------+--------------+------------+"
      ]
     },
     "execution_count": 90,
     "metadata": {},
     "output_type": "execute_result"
    }
   ],
   "source": [
    "%%sql\n",
    "SELECT * FROM BorrowingHistory;"
   ]
  },
  {
   "cell_type": "code",
   "execution_count": null,
   "id": "0305e74f-b296-4fb4-b6e0-c1fb6eba88f9",
   "metadata": {},
   "outputs": [],
   "source": []
  },
  {
   "cell_type": "markdown",
   "id": "720a0c96-09ea-4a9d-a8a9-30d0a8936c86",
   "metadata": {},
   "source": [
    "# Acquisition Requests "
   ]
  },
  {
   "cell_type": "code",
   "execution_count": 92,
   "id": "bc2e89f2-755c-4388-8a6b-1e25d6444c8a",
   "metadata": {},
   "outputs": [
    {
     "data": {
      "text/html": [
       "<span style=\"None\">Running query in &#x27;sqlite:///library_final.db&#x27;</span>"
      ],
      "text/plain": [
       "Running query in 'sqlite:///library_final.db'"
      ]
     },
     "metadata": {},
     "output_type": "display_data"
    },
    {
     "data": {
      "text/html": [
       "<span style=\"color: green\">14 rows affected.</span>"
      ],
      "text/plain": [
       "14 rows affected."
      ]
     },
     "metadata": {},
     "output_type": "display_data"
    },
    {
     "data": {
      "text/html": [
       "<table>\n",
       "    <thead>\n",
       "        <tr>\n",
       "        </tr>\n",
       "    </thead>\n",
       "    <tbody>\n",
       "    </tbody>\n",
       "</table>"
      ],
      "text/plain": [
       "++\n",
       "||\n",
       "++\n",
       "++"
      ]
     },
     "execution_count": 92,
     "metadata": {},
     "output_type": "execute_result"
    }
   ],
   "source": [
    "%%sql\n",
    "INSERT INTO AcquisitionRequest (request_id, requested_by, request_status, item_type, creator, title)\n",
    "VALUES\n",
    "(1, 1, 'Pending', 'Physical Book', 'Haruki Murakami', 'Kafka on the Shore'),\n",
    "(2, 2, 'Pending', 'Physical Book', 'Donna Tartt', 'The Secret History'),\n",
    "(3, 3, 'Pending', 'Physical Book', 'Chimamanda Ngozi Adichie', 'Americanah'),\n",
    "(4, 4, 'Pending', 'Audiobook', 'Andy Weir', 'Project Hail Mary'),\n",
    "(5, 5, 'Pending', 'Audiobook', 'Michelle Obama', 'Becoming'),\n",
    "(6, 8, 'Pending', 'DVD', 'Christopher Nolan', 'Oppenheimer'),\n",
    "(7, 7, 'Pending', 'DVD', 'Greta Gerwig', 'Barbie'),\n",
    "(9, 9, 'Pending', 'CD', 'The Red Hot Chili Peppers', 'Californication'),\n",
    "(8, 10, 'Pending', 'Physical Book', 'Thomas H. Cormen', 'Introduction to Algorithms'),\n",
    "(10, 18, 'Pending', 'Online Book', 'Yuval Noah Harari', 'Sapiens'),\n",
    "(11, 11, 'Pending', 'Physical Book', 'Fyodor Dostoevsky', 'Crime and Punishment'),\n",
    "(12, 12, 'Pending', 'Vinyl', 'Taylor Swift', 'Midnights'),\n",
    "(13, 15, 'Pending', 'CD', 'Kendrick Lamar', 'To Pimp a Butterfly'),\n",
    "(14, 14, 'Pending', 'Vinyl', 'The Strokes', 'Is This It');"
   ]
  },
  {
   "cell_type": "code",
   "execution_count": 94,
   "id": "b0ddd455-022d-40e9-9f49-fb412b72a8c9",
   "metadata": {},
   "outputs": [
    {
     "data": {
      "text/html": [
       "<span style=\"None\">Running query in &#x27;sqlite:///library_final.db&#x27;</span>"
      ],
      "text/plain": [
       "Running query in 'sqlite:///library_final.db'"
      ]
     },
     "metadata": {},
     "output_type": "display_data"
    },
    {
     "data": {
      "text/html": [
       "<table>\n",
       "    <thead>\n",
       "        <tr>\n",
       "            <th>request_id</th>\n",
       "            <th>requested_by</th>\n",
       "            <th>request_status</th>\n",
       "            <th>item_type</th>\n",
       "            <th>creator</th>\n",
       "            <th>title</th>\n",
       "        </tr>\n",
       "    </thead>\n",
       "    <tbody>\n",
       "        <tr>\n",
       "            <td>1</td>\n",
       "            <td>1</td>\n",
       "            <td>Pending</td>\n",
       "            <td>Physical Book</td>\n",
       "            <td>Haruki Murakami</td>\n",
       "            <td>Kafka on the Shore</td>\n",
       "        </tr>\n",
       "        <tr>\n",
       "            <td>2</td>\n",
       "            <td>2</td>\n",
       "            <td>Pending</td>\n",
       "            <td>Physical Book</td>\n",
       "            <td>Donna Tartt</td>\n",
       "            <td>The Secret History</td>\n",
       "        </tr>\n",
       "        <tr>\n",
       "            <td>3</td>\n",
       "            <td>3</td>\n",
       "            <td>Pending</td>\n",
       "            <td>Physical Book</td>\n",
       "            <td>Chimamanda Ngozi Adichie</td>\n",
       "            <td>Americanah</td>\n",
       "        </tr>\n",
       "        <tr>\n",
       "            <td>4</td>\n",
       "            <td>4</td>\n",
       "            <td>Pending</td>\n",
       "            <td>Audiobook</td>\n",
       "            <td>Andy Weir</td>\n",
       "            <td>Project Hail Mary</td>\n",
       "        </tr>\n",
       "        <tr>\n",
       "            <td>5</td>\n",
       "            <td>5</td>\n",
       "            <td>Pending</td>\n",
       "            <td>Audiobook</td>\n",
       "            <td>Michelle Obama</td>\n",
       "            <td>Becoming</td>\n",
       "        </tr>\n",
       "        <tr>\n",
       "            <td>6</td>\n",
       "            <td>8</td>\n",
       "            <td>Pending</td>\n",
       "            <td>DVD</td>\n",
       "            <td>Christopher Nolan</td>\n",
       "            <td>Oppenheimer</td>\n",
       "        </tr>\n",
       "        <tr>\n",
       "            <td>7</td>\n",
       "            <td>7</td>\n",
       "            <td>Pending</td>\n",
       "            <td>DVD</td>\n",
       "            <td>Greta Gerwig</td>\n",
       "            <td>Barbie</td>\n",
       "        </tr>\n",
       "        <tr>\n",
       "            <td>8</td>\n",
       "            <td>10</td>\n",
       "            <td>Pending</td>\n",
       "            <td>Physical Book</td>\n",
       "            <td>Thomas H. Cormen</td>\n",
       "            <td>Introduction to Algorithms</td>\n",
       "        </tr>\n",
       "        <tr>\n",
       "            <td>9</td>\n",
       "            <td>9</td>\n",
       "            <td>Pending</td>\n",
       "            <td>CD</td>\n",
       "            <td>The Red Hot Chili Peppers</td>\n",
       "            <td>Californication</td>\n",
       "        </tr>\n",
       "        <tr>\n",
       "            <td>10</td>\n",
       "            <td>18</td>\n",
       "            <td>Pending</td>\n",
       "            <td>Online Book</td>\n",
       "            <td>Yuval Noah Harari</td>\n",
       "            <td>Sapiens</td>\n",
       "        </tr>\n",
       "        <tr>\n",
       "            <td>11</td>\n",
       "            <td>11</td>\n",
       "            <td>Pending</td>\n",
       "            <td>Physical Book</td>\n",
       "            <td>Fyodor Dostoevsky</td>\n",
       "            <td>Crime and Punishment</td>\n",
       "        </tr>\n",
       "        <tr>\n",
       "            <td>12</td>\n",
       "            <td>12</td>\n",
       "            <td>Pending</td>\n",
       "            <td>Vinyl</td>\n",
       "            <td>Taylor Swift</td>\n",
       "            <td>Midnights</td>\n",
       "        </tr>\n",
       "        <tr>\n",
       "            <td>13</td>\n",
       "            <td>15</td>\n",
       "            <td>Pending</td>\n",
       "            <td>CD</td>\n",
       "            <td>Kendrick Lamar</td>\n",
       "            <td>To Pimp a Butterfly</td>\n",
       "        </tr>\n",
       "        <tr>\n",
       "            <td>14</td>\n",
       "            <td>14</td>\n",
       "            <td>Pending</td>\n",
       "            <td>Vinyl</td>\n",
       "            <td>The Strokes</td>\n",
       "            <td>Is This It</td>\n",
       "        </tr>\n",
       "    </tbody>\n",
       "</table>"
      ],
      "text/plain": [
       "+------------+--------------+----------------+---------------+---------------------------+----------------------------+\n",
       "| request_id | requested_by | request_status |   item_type   |          creator          |           title            |\n",
       "+------------+--------------+----------------+---------------+---------------------------+----------------------------+\n",
       "|     1      |      1       |    Pending     | Physical Book |      Haruki Murakami      |     Kafka on the Shore     |\n",
       "|     2      |      2       |    Pending     | Physical Book |        Donna Tartt        |     The Secret History     |\n",
       "|     3      |      3       |    Pending     | Physical Book |  Chimamanda Ngozi Adichie |         Americanah         |\n",
       "|     4      |      4       |    Pending     |   Audiobook   |         Andy Weir         |     Project Hail Mary      |\n",
       "|     5      |      5       |    Pending     |   Audiobook   |       Michelle Obama      |          Becoming          |\n",
       "|     6      |      8       |    Pending     |      DVD      |     Christopher Nolan     |        Oppenheimer         |\n",
       "|     7      |      7       |    Pending     |      DVD      |        Greta Gerwig       |           Barbie           |\n",
       "|     8      |      10      |    Pending     | Physical Book |      Thomas H. Cormen     | Introduction to Algorithms |\n",
       "|     9      |      9       |    Pending     |       CD      | The Red Hot Chili Peppers |      Californication       |\n",
       "|     10     |      18      |    Pending     |  Online Book  |     Yuval Noah Harari     |          Sapiens           |\n",
       "|     11     |      11      |    Pending     | Physical Book |     Fyodor Dostoevsky     |    Crime and Punishment    |\n",
       "|     12     |      12      |    Pending     |     Vinyl     |        Taylor Swift       |         Midnights          |\n",
       "|     13     |      15      |    Pending     |       CD      |       Kendrick Lamar      |    To Pimp a Butterfly     |\n",
       "|     14     |      14      |    Pending     |     Vinyl     |        The Strokes        |         Is This It         |\n",
       "+------------+--------------+----------------+---------------+---------------------------+----------------------------+"
      ]
     },
     "execution_count": 94,
     "metadata": {},
     "output_type": "execute_result"
    }
   ],
   "source": [
    "%%sql\n",
    "SELECT * FROM AcquisitionRequest;"
   ]
  },
  {
   "cell_type": "code",
   "execution_count": 50,
   "id": "3906f9c9-88f5-4407-b7d8-885d737a9748",
   "metadata": {},
   "outputs": [
    {
     "data": {
      "text/html": [
       "<span style=\"None\">Running query in &#x27;sqlite:///new_library.db&#x27;</span>"
      ],
      "text/plain": [
       "Running query in 'sqlite:///new_library.db'"
      ]
     },
     "metadata": {},
     "output_type": "display_data"
    },
    {
     "data": {
      "text/html": [
       "<table>\n",
       "    <thead>\n",
       "        <tr>\n",
       "        </tr>\n",
       "    </thead>\n",
       "    <tbody>\n",
       "    </tbody>\n",
       "</table>"
      ],
      "text/plain": [
       "++\n",
       "||\n",
       "++\n",
       "++"
      ]
     },
     "execution_count": 50,
     "metadata": {},
     "output_type": "execute_result"
    }
   ],
   "source": [
    "%%sql\n",
    "DROP TABLE AcquisitionRequest;"
   ]
  }
 ],
 "metadata": {
  "kernelspec": {
   "display_name": "Python [conda env:base] *",
   "language": "python",
   "name": "conda-base-py"
  },
  "language_info": {
   "codemirror_mode": {
    "name": "ipython",
    "version": 3
   },
   "file_extension": ".py",
   "mimetype": "text/x-python",
   "name": "python",
   "nbconvert_exporter": "python",
   "pygments_lexer": "ipython3",
   "version": "3.12.2"
  }
 },
 "nbformat": 4,
 "nbformat_minor": 5
}
